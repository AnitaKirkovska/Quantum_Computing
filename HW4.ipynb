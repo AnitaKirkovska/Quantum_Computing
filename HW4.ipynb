{
  "nbformat": 4,
  "nbformat_minor": 0,
  "metadata": {
    "colab": {
      "name": "HW4.ipynb",
      "provenance": [],
      "collapsed_sections": [],
      "include_colab_link": true
    },
    "kernelspec": {
      "name": "python3",
      "display_name": "Python 3"
    }
  },
  "cells": [
    {
      "cell_type": "markdown",
      "metadata": {
        "id": "view-in-github",
        "colab_type": "text"
      },
      "source": [
        "<a href=\"https://colab.research.google.com/github/AnitaKirkovska/Quantum_Computing/blob/master/HW4.ipynb\" target=\"_parent\"><img src=\"https://colab.research.google.com/assets/colab-badge.svg\" alt=\"Open In Colab\"/></a>"
      ]
    },
    {
      "cell_type": "markdown",
      "metadata": {
        "id": "wf2A1lXe6JFT",
        "colab_type": "text"
      },
      "source": [
        "## HW 4"
      ]
    },
    {
      "cell_type": "markdown",
      "metadata": {
        "id": "hqRx6Utk6O2i",
        "colab_type": "text"
      },
      "source": [
        "### Problem 1 "
      ]
    },
    {
      "cell_type": "markdown",
      "metadata": {
        "id": "CAw2poAb6rci",
        "colab_type": "text"
      },
      "source": [
        "Implement Floyd's collision detection algorithm to find collisions. It is OK if you look up the code for this on the internet.  "
      ]
    },
    {
      "cell_type": "markdown",
      "metadata": {
        "id": "H2vIqFE1qzyx",
        "colab_type": "text"
      },
      "source": [
        "The code below is from Wikipedia:https://en.wikipedia.org/wiki/Cycle_detection"
      ]
    },
    {
      "cell_type": "code",
      "metadata": {
        "id": "5kmqrruspgVH",
        "colab_type": "code",
        "colab": {}
      },
      "source": [
        "def floyd(f, x0):\n",
        "    tortoise = f(x0) # f(x0) is the element/node next to x0.\n",
        "    hare = f(f(x0))\n",
        "    while tortoise != hare:\n",
        "        tortoise = f(tortoise)\n",
        "        hare = f(f(hare))\n",
        "    \n",
        "    mu = 0\n",
        "    tortoise = x0\n",
        "    while tortoise != hare:\n",
        "        tortoise = f(tortoise)\n",
        "        hare = f(hare)   # Hare and tortoise move at same speed\n",
        "        mu += 1\n",
        "    lam = 1\n",
        "    hare = f(tortoise)\n",
        "    while tortoise != hare:\n",
        "        hare = f(hare)\n",
        "        lam += 1\n",
        " \n",
        "    return lam, mu"
      ],
      "execution_count": 0,
      "outputs": []
    },
    {
      "cell_type": "markdown",
      "metadata": {
        "id": "gby5O1Fxtnas",
        "colab_type": "text"
      },
      "source": [
        "**Test example** (also from Wikipedia)"
      ]
    },
    {
      "cell_type": "code",
      "metadata": {
        "id": "cGrRM4RVtnGc",
        "colab_type": "code",
        "colab": {}
      },
      "source": [
        "def test(x):\n",
        "  d = {0:6, 1:6, 2:0, 3:1, 4:4, 5:3, 6:3, 7:4, 8:0}\n",
        "  return d.get(x)"
      ],
      "execution_count": 0,
      "outputs": []
    },
    {
      "cell_type": "code",
      "metadata": {
        "id": "TKE9U4Ezu7q4",
        "colab_type": "code",
        "colab": {
          "base_uri": "https://localhost:8080/",
          "height": 68
        },
        "outputId": "348d0f33-d7fd-4f2a-878a-15de541e23f8"
      },
      "source": [
        "start = 2\n",
        "c = [start,]\n",
        "\n",
        "for i in range(1,8):\n",
        "  f = test(c[i-1])\n",
        "  c.append(f)\n",
        "\n",
        "cycle = floyd(test,start)\n",
        "print(\"The cycle is\", [seq[i] for i in range(cycle[1], cycle[0]+2)])\n",
        "print(\"The lenght of the loop is\", cycle[0])\n",
        "print(\"The starting position of the loop is\", cycle[1])"
      ],
      "execution_count": 45,
      "outputs": [
        {
          "output_type": "stream",
          "text": [
            "The cycle is [6, 3, 1]\n",
            "The lenght of the loop is 3\n",
            "The starting position of the loop is 2\n"
          ],
          "name": "stdout"
        }
      ]
    },
    {
      "cell_type": "markdown",
      "metadata": {
        "id": "YGvKfv8Q6_La",
        "colab_type": "text"
      },
      "source": [
        "### Problem 2"
      ]
    },
    {
      "cell_type": "code",
      "metadata": {
        "id": "I3930qUK7Z_i",
        "colab_type": "code",
        "colab": {}
      },
      "source": [
        "# implement the function find_order\n",
        "\n",
        "def find_order(a, N):\n",
        "    # using the method from problem 1 \n",
        "    # compute the order r of a module N\n",
        "\n",
        "    return r"
      ],
      "execution_count": 0,
      "outputs": []
    },
    {
      "cell_type": "markdown",
      "metadata": {
        "id": "b237qgr27rxx",
        "colab_type": "text"
      },
      "source": [
        "### Problem 3"
      ]
    },
    {
      "cell_type": "code",
      "metadata": {
        "id": "ZObTYzc-7toX",
        "colab_type": "code",
        "colab": {}
      },
      "source": [
        "# implement the function factor\n",
        "\n",
        "def factor(N):\n",
        "    # choose a uniformly at random in {2,...,N-1}\n",
        "    # compute the order r of a module N using the method from problem 2\n",
        "    # if r odd, chose different a\n",
        "    # if r even, compute f = gcd(a**(r/2 -1), N))\n",
        "    # if f is a trivial factor, choose different a\n",
        "\n",
        "    return f"
      ],
      "execution_count": 0,
      "outputs": []
    }
  ]
}