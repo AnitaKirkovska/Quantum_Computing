{
  "nbformat": 4,
  "nbformat_minor": 0,
  "metadata": {
    "colab": {
      "name": "hw_1_problem_2.ipynb",
      "provenance": [],
      "collapsed_sections": [],
      "include_colab_link": true
    },
    "kernelspec": {
      "name": "python3",
      "display_name": "Python 3"
    }
  },
  "cells": [
    {
      "cell_type": "markdown",
      "metadata": {
        "id": "view-in-github",
        "colab_type": "text"
      },
      "source": [
        "<a href=\"https://colab.research.google.com/github/AnitaKirkovska/Quantum_Computing/blob/master/HW1/hw_1_problem_2.ipynb\" target=\"_parent\"><img src=\"https://colab.research.google.com/assets/colab-badge.svg\" alt=\"Open In Colab\"/></a>"
      ]
    },
    {
      "cell_type": "markdown",
      "metadata": {
        "id": "sGf-nYo10Klf",
        "colab_type": "text"
      },
      "source": [
        "## HW 1 ##"
      ]
    },
    {
      "cell_type": "markdown",
      "metadata": {
        "id": "SmWohx1y9P02",
        "colab_type": "text"
      },
      "source": [
        "Sources used: Github"
      ]
    },
    {
      "cell_type": "markdown",
      "metadata": {
        "id": "dO_S4Lfp2ikH",
        "colab_type": "text"
      },
      "source": [
        "### Problem 2 ###"
      ]
    },
    {
      "cell_type": "markdown",
      "metadata": {
        "id": "G0vOp72N8Ir9",
        "colab_type": "text"
      },
      "source": [
        "**Some definitions**"
      ]
    },
    {
      "cell_type": "markdown",
      "metadata": {
        "id": "tpAherNO2k0W",
        "colab_type": "text"
      },
      "source": [
        "Let \n",
        "\n",
        "$$M\\in\\mathbb{R}^{n\\times n}$$ be an arbitrary matrix.  \n",
        "\n",
        "Let $$p(x)=a_0 + a_1 x + a_2 x^2 + \\ldots + a_n x^n \\in\\mathbb{R}[x]$$ be an arbitrary polynomial of less or equal to $n$.\n",
        "\n",
        "The above polynomial can be used to define a matrix function that takes matrices as input and outputs matrices as follows: \n",
        "\n",
        "$$p(M) = a_0 I + a_1 M + \\ldots + a_n M^n,$$ \n",
        "\n",
        "that is, each monomial $x^k$ is substituted by the corresponding matrix power $M^k$.\n",
        "\n",
        "We say that a polynomial $p(x)$ annihilates a matrix $M\\in\\mathbb{R}^{n\\times n}$ iff $p(M)=\\boldsymbol{0}$, where $\\boldsymbol{0}$ is the zero matrix."
      ]
    },
    {
      "cell_type": "markdown",
      "metadata": {
        "id": "VqlwG3yO6eGm",
        "colab_type": "text"
      },
      "source": [
        "**Task**"
      ]
    },
    {
      "cell_type": "markdown",
      "metadata": {
        "id": "n4ltay5l26H-",
        "colab_type": "text"
      },
      "source": [
        "The task is to write a function ```annihilate_poly``` that takes as input an arbitrary square numpy array $M$ and outputs a vector whose cofficients are the coefficients of a (non-trivial) polynomial that annihilates $M$.  One-trivial means that its is not the zero polynomial which maps every matrix to the zero matrix."
      ]
    },
    {
      "cell_type": "markdown",
      "metadata": {
        "id": "F5jLtN6i6kr2",
        "colab_type": "text"
      },
      "source": [
        "**Hint**"
      ]
    },
    {
      "cell_type": "markdown",
      "metadata": {
        "id": "gX0wbu8z3eDu",
        "colab_type": "text"
      },
      "source": [
        "You can reduce the problem to finding a linear dependance relationship between the $n+1$ vectors \n",
        "\n",
        "$$\\mathrm{vec}(I), \\mathrm{vec}(M), \\mathrm{vec}(M^2),\\ldots,\\mathrm{vec}(M^n)\\in\\mathrm{R}^{n^2}.$$\n",
        "\n"
      ]
    },
    {
      "cell_type": "markdown",
      "metadata": {
        "id": "n3SRuDOi5DLH",
        "colab_type": "text"
      },
      "source": [
        "The operation $\\mathrm{vec}$ turns a square matrix $M\\in\\mathbb{R}^{n\\times n}$ into a vector $v\\in\\mathbb{R}^{n^2}$ by first listing the entries of the first row, then those of the second row etc."
      ]
    },
    {
      "cell_type": "markdown",
      "metadata": {
        "id": "KXdlDLbQ7lHm",
        "colab_type": "text"
      },
      "source": [
        "Update: \n",
        "\n",
        "To solve this problem, you have to compute the null space of the matrix $A\\in \\mathbb{R}^{n^2\\times (n+1)}$ whose columns are the vectors $\\mathrm{vec}(M^k)$ for $k\\in\\{0,\\ldots,n\\}$.\n",
        "\n",
        "\n",
        "(This is not needed: \n",
        "\n",
        "If you don't remeber how to compute the find a linear dependance relationship, check out this stackoverflow post: https://math.stackexchange.com/questions/2198960/finding-linear-dependence-relation\n",
        "\n",
        "You can use https://docs.scipy.org/doc/numpy/reference/generated/numpy.linalg.solve.html to solve the resulting matrix equation.)"
      ]
    },
    {
      "cell_type": "markdown",
      "metadata": {
        "id": "je97MuQ981hW",
        "colab_type": "text"
      },
      "source": [
        "**Task**"
      ]
    },
    {
      "cell_type": "markdown",
      "metadata": {
        "id": "H0LgESqW8_7O",
        "colab_type": "text"
      },
      "source": [
        "Write a function ```annihilate_min_deg_poly``` that computes a non-trivial polynomial that annihilates a given square matrix and has the smallest possible degree.  Recall that a polynomial $p(x)$ has degree $d$ if the coefficient $a_{d+1}=\\ldots=a_n=0$."
      ]
    },
    {
      "cell_type": "markdown",
      "metadata": {
        "id": "RGgq8k_O_gEJ",
        "colab_type": "text"
      },
      "source": [
        "**Useful links:**\n",
        "\n",
        "https://www.maths.ed.ac.uk/~tl/minimal.pdf\n",
        "\n",
        "https://www.youtube.com/watch?v=3WkxhuzcSCE\n",
        "\n",
        "https://github.com/asanaullah2015/cot5600\n",
        "\n"
      ]
    },
    {
      "cell_type": "code",
      "metadata": {
        "id": "p9qlJ_tFeaDf",
        "colab_type": "code",
        "colab": {}
      },
      "source": [
        "import numpy as np\n",
        "from scipy.linalg import null_space\n",
        "from numpy.linalg import LinAlgError"
      ],
      "execution_count": 0,
      "outputs": []
    },
    {
      "cell_type": "code",
      "metadata": {
        "id": "XjRHihHjeqx9",
        "colab_type": "code",
        "colab": {}
      },
      "source": [
        "def annihilate_poly(M):\n",
        "  #square numpy array M, n+1 vectors, k degree for polynomial we want to get\n",
        "  M = np.matrix(M)\n",
        "  n = M.shape[0]\n",
        "  \n",
        "  vector_pow = np.zeros((n**2, n+1))\n",
        "  #print(vector_pow)\n",
        "  for i in range(n+1):\n",
        "    vector_pow[0:,i] = np.reshape((M**i),(n**2))\n",
        "\n",
        "  n_space = null_space(vector_pow)\n",
        "  return n_space"
      ],
      "execution_count": 0,
      "outputs": []
    },
    {
      "cell_type": "code",
      "metadata": {
        "id": "OEWw3tu3ju-b",
        "colab_type": "code",
        "colab": {}
      },
      "source": [
        "def find_min_degree(M, i, j, matrix_pow):\n",
        "  \n",
        "  M = np.matrix(M)\n",
        "  n = M.shape[0]\n",
        "  \n",
        "  poly_deg = (i+j)//2\n",
        "  degree_check = annihilate_poly(M)\n",
        "  \n",
        "  if i == j:\n",
        "    n_space = annihilate_poly(M)\n",
        "    return n_space[0:, 0]\n",
        "  if degree_check.all == -1:\n",
        "    return find_min_degree(M, poly_deg+1, j, matrix_pow)\n",
        "\n",
        "  return find_min_degree(M, i, poly_deg, matrix_pow)\n"
      ],
      "execution_count": 0,
      "outputs": []
    },
    {
      "cell_type": "code",
      "metadata": {
        "id": "Bo7ECq2AmFcI",
        "colab_type": "code",
        "colab": {}
      },
      "source": [
        "def annihilate_min_deg_poly(M,n):\n",
        "  # computes a non-trivial polynomial that annihilates a given square matrix and has the smallest possible degree - we need to find it\n",
        "\n",
        "  matrix_pow = np.zeros((n+1,n,n))\n",
        "  matrix_pow[0] = np.identity(n) #vec(𝐼)\n",
        "\n",
        "  #start from second and add powers vec(𝑀),vec(𝑀2),…,vec(𝑀𝑛)∈R𝑛2.\n",
        "  for i in range(1,n+1):\n",
        "    #matrix product of two arrays\n",
        "    matrix_pow[i] = np.matmul(matrix_pow[i-1], M) \n",
        "  \n",
        "  min_degree = find_min_degree(M, 0, n, matrix_pow)\n",
        "  print('Minimum degree is ===>', np.prod(min_degree.shape) - 1, '\\n')\n",
        "  \n",
        "  poly = 'Coeficients of polynomial that annihilates the matrix ====> \\n \\n'\n",
        "\n",
        "  for i in range (0, np.prod(min_degree.shape) - 1):\n",
        "    poly+= str(min_degree[i]) + \"*x^\" + str(i) + \" + \"\n",
        "\n",
        "  poly+= str(min_degree[np.prod(min_degree.shape) - 1]) \\\n",
        "    + \"*x^\" + str(np.prod(min_degree.shape) - 1)\n",
        "  \n",
        "  print(poly, '\\n')\n",
        "\n",
        "  vector_pow = np.zeros((n**2, min_degree.size))\n",
        "\n",
        "  for i in range (0, min_degree.size):\n",
        "    vector_pow[0:,i] = np.reshape(matrix_pow[i], (n**2))\n",
        "  \n",
        "  final_coef = np.reshape(np.matmul(vector_pow, min_degree), (n,n))\n",
        "  print('Solution using the coeficients  ===> \\n')\n",
        "  print(final_coef)"
      ],
      "execution_count": 0,
      "outputs": []
    },
    {
      "cell_type": "code",
      "metadata": {
        "id": "P0ozQuw_gVKo",
        "colab_type": "code",
        "colab": {
          "base_uri": "https://localhost:8080/",
          "height": 187
        },
        "outputId": "3aea6fb5-a7d0-4cd3-b32d-0ff0a61bf41f"
      },
      "source": [
        "#matrix example from class, we know that min degree is 2\n",
        "\n",
        "M = [[0,1],\n",
        "     [1,0]]\n",
        "n = 2\n",
        "\n",
        "annihilate_min_deg_poly(M,n)\n",
        "#annihilate_poly(M)\n"
      ],
      "execution_count": 16,
      "outputs": [
        {
          "output_type": "stream",
          "text": [
            "Minimum degree is ===> 2 \n",
            "\n",
            "Coeficients of polynomial that annihilates the matrix ====> \n",
            " \n",
            "0.7071067811865475*x^0 + 0.0*x^1 + -0.7071067811865476*x^2 \n",
            "\n",
            "Solution using the coeficients  ===> \n",
            "\n",
            "[[-1.11022302e-16  0.00000000e+00]\n",
            " [ 0.00000000e+00 -1.11022302e-16]]\n"
          ],
          "name": "stdout"
        }
      ]
    }
  ]
}