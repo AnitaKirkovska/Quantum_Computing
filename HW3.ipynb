{
  "nbformat": 4,
  "nbformat_minor": 0,
  "metadata": {
    "colab": {
      "name": "HW3.ipynb",
      "provenance": [],
      "authorship_tag": "ABX9TyO+OjMhbHitkaD1hsFCuxsq",
      "include_colab_link": true
    },
    "kernelspec": {
      "name": "python3",
      "display_name": "Python 3"
    }
  },
  "cells": [
    {
      "cell_type": "markdown",
      "metadata": {
        "id": "view-in-github",
        "colab_type": "text"
      },
      "source": [
        "<a href=\"https://colab.research.google.com/github/AnitaKirkovska/Quantum_Computing/blob/master/HW3.ipynb\" target=\"_parent\"><img src=\"https://colab.research.google.com/assets/colab-badge.svg\" alt=\"Open In Colab\"/></a>"
      ]
    },
    {
      "cell_type": "markdown",
      "metadata": {
        "id": "70cn_BWO92OR",
        "colab_type": "text"
      },
      "source": [
        "# Problem 1"
      ]
    },
    {
      "cell_type": "markdown",
      "metadata": {
        "id": "gy28DoPN9z0t",
        "colab_type": "text"
      },
      "source": [
        "\n",
        "\n",
        "**Fourier matrix**\n",
        "Let $\\omega=\\mathrm{exp}(2\\pi i/N)$ be the $N$th root of unity. The Fourier matrix of size $N$ is the matrix $F_N=(q_{k,\\ell})\\in\\mathbb{C}^{N\\times N}$ whose entries are given by$$q_{k,\\ell}=\\frac{1}{\\sqrt{N}} \\omega^{k \\cdot \\ell}$$for $k, \\ell \\in \\{0,\\ldots,N-1\\}$.\n",
        "\n",
        "Using numpy, implement the function get_fourier_matrix that creates the Fourier matrix of size $N$.\n",
        "\n",
        "Compute the eigenvalues of eigenvectors of the Fourier matrix.\n",
        "\n",
        "To check that your code is correct, you should verify the following properties:\n",
        "\n",
        "the Fourier matrix is unitary\n",
        "the fourth power of $F_N^4$ is equal to the identity matrix\n",
        "its eigenvalues are $1, i, -1, -i$ (the multiplicities of these eigenvalues are given on the wikipedia page discrete fourier transform in section eigenvalues and eigenvectors)\n"
      ]
    },
    {
      "cell_type": "code",
      "metadata": {
        "id": "3zGwwEeR9tXi",
        "colab_type": "code",
        "colab": {}
      },
      "source": [
        "import numpy as np\n",
        "import cmath\n",
        "import math \n",
        "\n",
        "#function that creates the Fourier matrix of size N\n",
        "def get_fourier_matrix(N):\n",
        "  w = np.exp((1j*2*np.pi)/N)\n",
        "  x = np.eye(N, dtype=complex)\n",
        "  for i in range(N):\n",
        "    for j in range(N):\n",
        "      x[i][j] = (w**(i*j))/(N**0.5)\n",
        "  return x"
      ],
      "execution_count": 0,
      "outputs": []
    },
    {
      "cell_type": "code",
      "metadata": {
        "id": "dbTSBiPgVeta",
        "colab_type": "code",
        "colab": {}
      },
      "source": [
        "def is_unitary(U):\n",
        "  if (np.allclose(np.eye(len(U)), U.dot(U.T.conj()))): return 'The matrix is unitary.'\n",
        "  else: return 'The matrix is NOT unitary.'"
      ],
      "execution_count": 0,
      "outputs": []
    },
    {
      "cell_type": "code",
      "metadata": {
        "id": "Sgd56bamWAVi",
        "colab_type": "code",
        "colab": {
          "base_uri": "https://localhost:8080/",
          "height": 459
        },
        "outputId": "d5f60591-cae3-48f6-9ad7-d85daf8f640d"
      },
      "source": [
        "F = get_fourier_matrix(4)\n",
        "\n",
        "print(is_unitary(F))\n",
        "print('\\n')\n",
        "print ('Fourier matrix for N = 4', F)\n",
        "print('\\n')\n",
        "print('Eigenvalues are:', np.linalg.eigvals(F)) \n",
        "print('\\n')\n",
        "print('Eigenvalues and the right Eigenvectors are:', np.linalg.eig(F))"
      ],
      "execution_count": 40,
      "outputs": [
        {
          "output_type": "stream",
          "text": [
            "The matrix is unitary.\n",
            "\n",
            "\n",
            "Fourier matrix for N = 4 [[ 5.00000000e-01+0.0000000e+00j  5.00000000e-01+0.0000000e+00j\n",
            "   5.00000000e-01+0.0000000e+00j  5.00000000e-01+0.0000000e+00j]\n",
            " [ 5.00000000e-01+0.0000000e+00j  3.06161700e-17+5.0000000e-01j\n",
            "  -5.00000000e-01+6.1232340e-17j -9.18485099e-17-5.0000000e-01j]\n",
            " [ 5.00000000e-01+0.0000000e+00j -5.00000000e-01+6.1232340e-17j\n",
            "   5.00000000e-01-1.2246468e-16j -5.00000000e-01+1.8369702e-16j]\n",
            " [ 5.00000000e-01+0.0000000e+00j -9.18485099e-17-5.0000000e-01j\n",
            "  -5.00000000e-01+1.8369702e-16j  2.75545530e-16+5.0000000e-01j]]\n",
            "\n",
            "\n",
            "Eigenvalues are: [ 1.00000000e+00+3.42424236e-17j -1.00000000e+00+1.02727271e-16j\n",
            "  1.11022302e-16+1.00000000e+00j  1.00000000e+00-2.04697370e-16j]\n",
            "\n",
            "\n",
            "Eigenvalues and the right Eigenvectors are: (array([ 1.00000000e+00+3.42424236e-17j, -1.00000000e+00+1.02727271e-16j,\n",
            "        1.11022302e-16+1.00000000e+00j,  1.00000000e+00-2.04697370e-16j]), array([[ 8.66025404e-01+0.00000000e+00j, -5.00000000e-01-3.42424236e-17j,\n",
            "         4.60192388e-17+3.71041199e-17j, -1.72505683e-02-5.65545689e-03j],\n",
            "       [ 2.88675135e-01+1.97698725e-17j,  5.00000000e-01+0.00000000e+00j,\n",
            "         7.07106781e-01+0.00000000e+00j, -4.13907685e-01-2.82772845e-03j],\n",
            "       [ 2.88675135e-01+1.97698725e-17j,  5.00000000e-01+0.00000000e+00j,\n",
            "         1.14615002e-17+1.59701248e-16j,  8.10564802e-01+0.00000000e+00j],\n",
            "       [ 2.88675135e-01+1.97698725e-17j,  5.00000000e-01+0.00000000e+00j,\n",
            "        -7.07106781e-01-2.77555756e-17j, -4.13907685e-01-2.82772845e-03j]]))\n"
          ],
          "name": "stdout"
        }
      ]
    },
    {
      "cell_type": "code",
      "metadata": {
        "id": "pr6s2sO3ZBxf",
        "colab_type": "code",
        "colab": {}
      },
      "source": [
        "#end of first part of Problem 1"
      ],
      "execution_count": 0,
      "outputs": []
    },
    {
      "cell_type": "markdown",
      "metadata": {
        "id": "BAq2E2qQY1eP",
        "colab_type": "text"
      },
      "source": [
        "**Cyclic shift matrix**\n",
        "The cyclic shift matrix is the matrix $P_N=(p_{k,\\ell}\\in\\mathbb{C}^{N\\times N}$ whose entries are given by\n",
        "\n",
        "$$ p_{k,\\ell} = 1 \\mbox{ if } \\ell = k + 1 \\pmod{N} $$$$ p_{k,\\ell} = 0 \\mbox{ if } \\ell \\neq k + 1 \\pmod{N} $$\n",
        "Using numpy, implement the function get_cyclic_shift_matrix that create the cyclic shift matrix of size $N$.\n",
        "\n",
        "Compute the eigenvalues of $P_N$.\n",
        "\n",
        "To show that your code is correct, you should verify the following properties:\n",
        "\n",
        "the cyclic shift matrix is unitary\n",
        "the $N$th power of the cyclic shift matrix is the identity matrix\n",
        "the eigenvalues of the cyclic shift matrix are $N$th roots of unity\n",
        "the cyclic shift matrix is diagonalized by the Fourier matrix, that is, $F_N^\\dagger P_N F_N$ is diagonal.\n"
      ]
    },
    {
      "cell_type": "code",
      "metadata": {
        "id": "o2DKYDqFY_PF",
        "colab_type": "code",
        "colab": {}
      },
      "source": [
        "from numpy.linalg import matrix_power\n",
        "\n",
        "def get_cyclic_shift_matrix(N):\n",
        "  x = np.eye(N, dtype=int)\n",
        "  for i in range(N):\n",
        "    for j in range(N):\n",
        "      x[i][j] = 1 if (j == (i+1)%N) else 0\n",
        "  return x\n",
        "\n",
        "def Nth_power(C, N):             \n",
        "  N -=1\n",
        "  c = C\n",
        "  while(N!=0):\n",
        "    c = np.matmul(C, c)\n",
        "    N -= 1\n",
        "  return c\n",
        "\n",
        "def equal(C,N):\n",
        "  if np.allclose(Nth_power(C,N),np.eye(4)): return ('The', N,'th','power of the Cyclic Matrix is equal to its Identity Matrix.')\n",
        "  else: return 'The', N,'th','power of the Cyclic Matrix is NOT equal to its Identity Matrix.' \n",
        "\n",
        "def Nth_roots(N):\n",
        "  w = np.exp((1j*2*np.pi)/N)\n",
        "  x = np.empty(N, dtype=complex)\n",
        "  x[0] = w\n",
        "  for i in range(1, N):\n",
        "    x[i] = x[i-1]*w\n",
        "  return x\n",
        "\n",
        "def eigen_root_unity(C,N):\n",
        "  if np.allclose(np.sort_complex(np.linalg.eigvals(C)), np.sort_complex(Nth_roots(N))): \n",
        "    return ('The eigenvalues of the cyclic shift matrix are the', N,'th','roots of unity')\n",
        "  else:\n",
        "    return ('The eigenvalues of the cyclic shift matrix are NOT the', N,'th','roots of unity')\n",
        "\n",
        "#the cyclic shift matrix is diagonalized by the Fourier matrix, that is, $F_N^\\dagger P_N F_N$ is diagonal.\n",
        "def diagonalized(C,F,N):\n",
        "  X = np.matmul(np.matmul(F.T.conj(), C), F)\n",
        "  X_no_diagonal = X - np.diag(np.diag(X))\n",
        "  if np.allclose(np.zeros((N,N)), X_no_diagonal): return 'The cyclic shift matrix is diagonalized by the Fourier matrix.'\n",
        "  else: return 'The cyclic shift matrix is NOT diagonalized by the Fourier matrix.'\n"
      ],
      "execution_count": 0,
      "outputs": []
    },
    {
      "cell_type": "code",
      "metadata": {
        "id": "GOeFq8qude5j",
        "colab_type": "code",
        "colab": {
          "base_uri": "https://localhost:8080/",
          "height": 85
        },
        "outputId": "bfc77efc-5b97-4bac-bb1b-5548b7e4bebb"
      },
      "source": [
        "C = get_cyclic_shift_matrix(4)\n",
        "F = get_fourier_matrix(4)\n",
        "\n",
        "print(is_unitary(C))\n",
        "print(equal(C,4))\n",
        "print(eigen_root_unity(C,4))\n",
        "print(diagonalized(C,F,4))"
      ],
      "execution_count": 114,
      "outputs": [
        {
          "output_type": "stream",
          "text": [
            "The matrix is unitary.\n",
            "('The', 4, 'th', 'power of the Cyclic Matrix is equal to its Identity Matrix.')\n",
            "('The eigenvalues of the cyclic shift matrix are the', 4, 'th', 'roots of unity')\n",
            "The cyclic shift matrix is diagonalized by the Fourier matrix.\n"
          ],
          "name": "stdout"
        }
      ]
    },
    {
      "cell_type": "code",
      "metadata": {
        "id": "Rk3RYA6ZkDzt",
        "colab_type": "code",
        "colab": {}
      },
      "source": [
        "#end of second part of Problem 1"
      ],
      "execution_count": 0,
      "outputs": []
    },
    {
      "cell_type": "markdown",
      "metadata": {
        "id": "ETctmo4T-K_h",
        "colab_type": "text"
      },
      "source": [
        "# Problem 2"
      ]
    },
    {
      "cell_type": "markdown",
      "metadata": {
        "id": "L9LvPLbb-OKQ",
        "colab_type": "text"
      },
      "source": [
        "\n",
        "Using Qiskit IBM Q Experience, implement the quantum phase estimation circuit with 3-bit precision.\n",
        "\n",
        "This quantum circuit is explained on pages 110-113 (Inverse Fourier transform for 3 qubits) of the lecture slides.\n",
        "\n",
        "Write a function that create the state\n",
        "\n",
        "$$ \n",
        "\\frac{1}{\\sqrt{2}} ( |0\\rangle + e^{2\\pi i 2^2 \\varphi} |1\\rangle ) \\otimes \n",
        "\\frac{1}{\\sqrt{2}} ( |0\\rangle + e^{2\\pi i 2^1 \\varphi} |1\\rangle ) \\otimes \n",
        "\\frac{1}{\\sqrt{2}} ( |0\\rangle + e^{2\\pi i 2^0 \\varphi} |1\\rangle ) \n",
        "$$\n",
        "for arbitrary $\\varphi\\in [0,1)$.\n",
        "\n",
        "(This is the state that we would obtain by\n",
        "\n",
        "preparing the three control bits in the $|+\\rangle$ state\n",
        "applying the control power of $U^{2^2}, U^{2^1}, U^{2^0}$ gates\n",
        "assuming that the target qubit is in state $|\\psi\\rangle$ and $U|\\psi\\rangle=e^{2 \\pi i \\varphi} |\\psi\\rangle$.)\n",
        "\n",
        "You can preprare the initial state applying U1 gates on qubits prepared $|+\\rangle$. See Qiskit U1 gate documentation.\n",
        "\n",
        "The controlled $R_k^\\dagger$ gates occuring in the inverse Fourier transform circuit can be realized with the help of controlled U1 gates."
      ]
    },
    {
      "cell_type": "code",
      "metadata": {
        "id": "MjwiqHmCYeka",
        "colab_type": "code",
        "colab": {}
      },
      "source": [
        ""
      ],
      "execution_count": 0,
      "outputs": []
    }
  ]
}