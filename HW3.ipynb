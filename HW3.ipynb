{
  "nbformat": 4,
  "nbformat_minor": 0,
  "metadata": {
    "colab": {
      "name": "HW3.ipynb",
      "provenance": [],
      "authorship_tag": "ABX9TyN29cybsUXJYuc+7lf+pfCB",
      "include_colab_link": true
    },
    "kernelspec": {
      "name": "python3",
      "display_name": "Python 3"
    }
  },
  "cells": [
    {
      "cell_type": "markdown",
      "metadata": {
        "id": "view-in-github",
        "colab_type": "text"
      },
      "source": [
        "<a href=\"https://colab.research.google.com/github/AnitaKirkovska/Quantum_Computing/blob/master/HW3.ipynb\" target=\"_parent\"><img src=\"https://colab.research.google.com/assets/colab-badge.svg\" alt=\"Open In Colab\"/></a>"
      ]
    },
    {
      "cell_type": "markdown",
      "metadata": {
        "id": "70cn_BWO92OR",
        "colab_type": "text"
      },
      "source": [
        "# Problem 1"
      ]
    },
    {
      "cell_type": "markdown",
      "metadata": {
        "id": "gy28DoPN9z0t",
        "colab_type": "text"
      },
      "source": [
        "\n",
        "\n",
        "**Fourier matrix**\n",
        "Let $\\omega=\\mathrm{exp}(2\\pi i/N)$ be the $N$th root of unity. The Fourier matrix of size $N$ is the matrix $F_N=(q_{k,\\ell})\\in\\mathbb{C}^{N\\times N}$ whose entries are given by$$q_{k,\\ell}=\\frac{1}{\\sqrt{N}} \\omega^{k \\cdot \\ell}$$for $k, \\ell \\in \\{0,\\ldots,N-1\\}$.\n",
        "\n",
        "Using numpy, implement the function get_fourier_matrix that creates the Fourier matrix of size $N$.\n",
        "\n",
        "Compute the eigenvalues of eigenvectors of the Fourier matrix.\n",
        "\n",
        "To check that your code is correct, you should verify the following properties:\n",
        "\n",
        "the Fourier matrix is unitary\n",
        "the fourth power of $F_N^4$ is equal to the identity matrix\n",
        "its eigenvalues are $1, i, -1, -i$ (the multiplicities of these eigenvalues are given on the wikipedia page discrete fourier transform in section eigenvalues and eigenvectors)\n"
      ]
    },
    {
      "cell_type": "code",
      "metadata": {
        "id": "3zGwwEeR9tXi",
        "colab_type": "code",
        "colab": {}
      },
      "source": [
        "import numpy as np\n",
        "import cmath\n",
        "import math \n",
        "\n",
        "#function that creates the Fourier matrix of size N\n",
        "def get_fourier_matrix(N):\n",
        "  w = np.exp((1j*2*np.pi)/N)\n",
        "  x = np.eye(N, dtype=complex)\n",
        "  for i in range(N):\n",
        "    for j in range(N):\n",
        "      x[i][j] = (w**(i*j))/(N**0.5)\n",
        "  return x"
      ],
      "execution_count": 0,
      "outputs": []
    },
    {
      "cell_type": "code",
      "metadata": {
        "id": "dbTSBiPgVeta",
        "colab_type": "code",
        "colab": {}
      },
      "source": [
        "def is_unitary(U):\n",
        "  if (np.allclose(np.eye(len(U)), U.dot(U.T.conj()))): return 'The matrix is unitary.'\n",
        "  else: return 'The matrix is NOT unitary.'"
      ],
      "execution_count": 0,
      "outputs": []
    },
    {
      "cell_type": "code",
      "metadata": {
        "id": "Sgd56bamWAVi",
        "colab_type": "code",
        "outputId": "d5f60591-cae3-48f6-9ad7-d85daf8f640d",
        "colab": {
          "base_uri": "https://localhost:8080/",
          "height": 459
        }
      },
      "source": [
        "F = get_fourier_matrix(4)\n",
        "\n",
        "print(is_unitary(F))\n",
        "print('\\n')\n",
        "print ('Fourier matrix for N = 4', F)\n",
        "print('\\n')\n",
        "print('Eigenvalues are:', np.linalg.eigvals(F)) \n",
        "print('\\n')\n",
        "print('Eigenvalues and the right Eigenvectors are:', np.linalg.eig(F))"
      ],
      "execution_count": 0,
      "outputs": [
        {
          "output_type": "stream",
          "text": [
            "The matrix is unitary.\n",
            "\n",
            "\n",
            "Fourier matrix for N = 4 [[ 5.00000000e-01+0.0000000e+00j  5.00000000e-01+0.0000000e+00j\n",
            "   5.00000000e-01+0.0000000e+00j  5.00000000e-01+0.0000000e+00j]\n",
            " [ 5.00000000e-01+0.0000000e+00j  3.06161700e-17+5.0000000e-01j\n",
            "  -5.00000000e-01+6.1232340e-17j -9.18485099e-17-5.0000000e-01j]\n",
            " [ 5.00000000e-01+0.0000000e+00j -5.00000000e-01+6.1232340e-17j\n",
            "   5.00000000e-01-1.2246468e-16j -5.00000000e-01+1.8369702e-16j]\n",
            " [ 5.00000000e-01+0.0000000e+00j -9.18485099e-17-5.0000000e-01j\n",
            "  -5.00000000e-01+1.8369702e-16j  2.75545530e-16+5.0000000e-01j]]\n",
            "\n",
            "\n",
            "Eigenvalues are: [ 1.00000000e+00+3.42424236e-17j -1.00000000e+00+1.02727271e-16j\n",
            "  1.11022302e-16+1.00000000e+00j  1.00000000e+00-2.04697370e-16j]\n",
            "\n",
            "\n",
            "Eigenvalues and the right Eigenvectors are: (array([ 1.00000000e+00+3.42424236e-17j, -1.00000000e+00+1.02727271e-16j,\n",
            "        1.11022302e-16+1.00000000e+00j,  1.00000000e+00-2.04697370e-16j]), array([[ 8.66025404e-01+0.00000000e+00j, -5.00000000e-01-3.42424236e-17j,\n",
            "         4.60192388e-17+3.71041199e-17j, -1.72505683e-02-5.65545689e-03j],\n",
            "       [ 2.88675135e-01+1.97698725e-17j,  5.00000000e-01+0.00000000e+00j,\n",
            "         7.07106781e-01+0.00000000e+00j, -4.13907685e-01-2.82772845e-03j],\n",
            "       [ 2.88675135e-01+1.97698725e-17j,  5.00000000e-01+0.00000000e+00j,\n",
            "         1.14615002e-17+1.59701248e-16j,  8.10564802e-01+0.00000000e+00j],\n",
            "       [ 2.88675135e-01+1.97698725e-17j,  5.00000000e-01+0.00000000e+00j,\n",
            "        -7.07106781e-01-2.77555756e-17j, -4.13907685e-01-2.82772845e-03j]]))\n"
          ],
          "name": "stdout"
        }
      ]
    },
    {
      "cell_type": "code",
      "metadata": {
        "id": "pr6s2sO3ZBxf",
        "colab_type": "code",
        "colab": {}
      },
      "source": [
        "#end of first part of Problem 1"
      ],
      "execution_count": 0,
      "outputs": []
    },
    {
      "cell_type": "markdown",
      "metadata": {
        "id": "BAq2E2qQY1eP",
        "colab_type": "text"
      },
      "source": [
        "**Cyclic shift matrix**\n",
        "The cyclic shift matrix is the matrix $P_N=(p_{k,\\ell}\\in\\mathbb{C}^{N\\times N}$ whose entries are given by\n",
        "\n",
        "$$ p_{k,\\ell} = 1 \\mbox{ if } \\ell = k + 1 \\pmod{N} $$$$ p_{k,\\ell} = 0 \\mbox{ if } \\ell \\neq k + 1 \\pmod{N} $$\n",
        "Using numpy, implement the function get_cyclic_shift_matrix that create the cyclic shift matrix of size $N$.\n",
        "\n",
        "Compute the eigenvalues of $P_N$.\n",
        "\n",
        "To show that your code is correct, you should verify the following properties:\n",
        "\n",
        "the cyclic shift matrix is unitary\n",
        "the $N$th power of the cyclic shift matrix is the identity matrix\n",
        "the eigenvalues of the cyclic shift matrix are $N$th roots of unity\n",
        "the cyclic shift matrix is diagonalized by the Fourier matrix, that is, $F_N^\\dagger P_N F_N$ is diagonal.\n"
      ]
    },
    {
      "cell_type": "code",
      "metadata": {
        "id": "o2DKYDqFY_PF",
        "colab_type": "code",
        "colab": {}
      },
      "source": [
        "from numpy.linalg import matrix_power\n",
        "\n",
        "def get_cyclic_shift_matrix(N):\n",
        "  x = np.eye(N, dtype=int)\n",
        "  for i in range(N):\n",
        "    for j in range(N):\n",
        "      x[i][j] = 1 if (j == (i+1)%N) else 0\n",
        "  return x\n",
        "\n",
        "def Nth_power(C, N):             \n",
        "  N -=1\n",
        "  c = C\n",
        "  while(N!=0):\n",
        "    c = np.matmul(C, c)\n",
        "    N -= 1\n",
        "  return c\n",
        "\n",
        "def equal(C,N):\n",
        "  if np.allclose(Nth_power(C,N),np.eye(4)): return ('The', N,'th','power of the Cyclic Matrix is equal to its Identity Matrix.')\n",
        "  else: return 'The', N,'th','power of the Cyclic Matrix is NOT equal to its Identity Matrix.' \n",
        "\n",
        "def Nth_roots(N):\n",
        "  w = np.exp((1j*2*np.pi)/N)\n",
        "  x = np.empty(N, dtype=complex)\n",
        "  x[0] = w\n",
        "  for i in range(1, N):\n",
        "    x[i] = x[i-1]*w\n",
        "  return x\n",
        "\n",
        "def eigen_root_unity(C,N):\n",
        "  if np.allclose(np.sort_complex(np.linalg.eigvals(C)), np.sort_complex(Nth_roots(N))): \n",
        "    return ('The eigenvalues of the cyclic shift matrix are the', N,'th','roots of unity')\n",
        "  else:\n",
        "    return ('The eigenvalues of the cyclic shift matrix are NOT the', N,'th','roots of unity')\n",
        "\n",
        "#the cyclic shift matrix is diagonalized by the Fourier matrix, that is, $F_N^\\dagger P_N F_N$ is diagonal.\n",
        "def diagonalized(C,F,N):\n",
        "  X = np.matmul(np.matmul(F.T.conj(), C), F)\n",
        "  X_no_diagonal = X - np.diag(np.diag(X))\n",
        "  if np.allclose(np.zeros((N,N)), X_no_diagonal): return 'The cyclic shift matrix is diagonalized by the Fourier matrix.'\n",
        "  else: return 'The cyclic shift matrix is NOT diagonalized by the Fourier matrix.'\n"
      ],
      "execution_count": 0,
      "outputs": []
    },
    {
      "cell_type": "code",
      "metadata": {
        "id": "GOeFq8qude5j",
        "colab_type": "code",
        "outputId": "bfc77efc-5b97-4bac-bb1b-5548b7e4bebb",
        "colab": {
          "base_uri": "https://localhost:8080/",
          "height": 85
        }
      },
      "source": [
        "C = get_cyclic_shift_matrix(4)\n",
        "F = get_fourier_matrix(4)\n",
        "\n",
        "print(is_unitary(C))\n",
        "print(equal(C,4))\n",
        "print(eigen_root_unity(C,4))\n",
        "print(diagonalized(C,F,4))"
      ],
      "execution_count": 0,
      "outputs": [
        {
          "output_type": "stream",
          "text": [
            "The matrix is unitary.\n",
            "('The', 4, 'th', 'power of the Cyclic Matrix is equal to its Identity Matrix.')\n",
            "('The eigenvalues of the cyclic shift matrix are the', 4, 'th', 'roots of unity')\n",
            "The cyclic shift matrix is diagonalized by the Fourier matrix.\n"
          ],
          "name": "stdout"
        }
      ]
    },
    {
      "cell_type": "code",
      "metadata": {
        "id": "Rk3RYA6ZkDzt",
        "colab_type": "code",
        "colab": {}
      },
      "source": [
        "#end of second part of Problem 1"
      ],
      "execution_count": 0,
      "outputs": []
    },
    {
      "cell_type": "markdown",
      "metadata": {
        "id": "ETctmo4T-K_h",
        "colab_type": "text"
      },
      "source": [
        "# Problem 2"
      ]
    },
    {
      "cell_type": "markdown",
      "metadata": {
        "id": "L9LvPLbb-OKQ",
        "colab_type": "text"
      },
      "source": [
        "\n",
        "Using Qiskit IBM Q Experience, implement the quantum phase estimation circuit with 3-bit precision.\n",
        "\n",
        "This quantum circuit is explained on pages 110-113 (Inverse Fourier transform for 3 qubits) of the lecture slides.\n",
        "\n",
        "Write a function that create the state\n",
        "\n",
        "$$ \n",
        "\\frac{1}{\\sqrt{2}} ( |0\\rangle + e^{2\\pi i 2^2 \\varphi} |1\\rangle ) \\otimes \n",
        "\\frac{1}{\\sqrt{2}} ( |0\\rangle + e^{2\\pi i 2^1 \\varphi} |1\\rangle ) \\otimes \n",
        "\\frac{1}{\\sqrt{2}} ( |0\\rangle + e^{2\\pi i 2^0 \\varphi} |1\\rangle ) \n",
        "$$\n",
        "for arbitrary $\\varphi\\in [0,1)$.\n",
        "\n",
        "(This is the state that we would obtain by\n",
        "\n",
        "preparing the three control bits in the $|+\\rangle$ state\n",
        "applying the control power of $U^{2^2}, U^{2^1}, U^{2^0}$ gates\n",
        "assuming that the target qubit is in state $|\\psi\\rangle$ and $U|\\psi\\rangle=e^{2 \\pi i \\varphi} |\\psi\\rangle$.)\n",
        "\n",
        "You can preprare the initial state applying U1 gates on qubits prepared $|+\\rangle$. See Qiskit U1 gate documentation.\n",
        "\n",
        "The controlled $R_k^\\dagger$ gates occuring in the inverse Fourier transform circuit can be realized with the help of controlled U1 gates."
      ]
    },
    {
      "cell_type": "markdown",
      "metadata": {
        "id": "qM8tK2OporK1",
        "colab_type": "text"
      },
      "source": [
        "*Resources/Help from:*\n",
        "\n",
        "1.   https://qiskit.org/textbook/ch-algorithms/quantum-phase-estimation.html\n"
      ]
    },
    {
      "cell_type": "code",
      "metadata": {
        "id": "MjwiqHmCYeka",
        "colab_type": "code",
        "colab": {}
      },
      "source": [
        "!pip install qiskit\n",
        "!pip install qiskit-terra[visualization] "
      ],
      "execution_count": 0,
      "outputs": []
    },
    {
      "cell_type": "code",
      "metadata": {
        "id": "8xgJVAD0lgCg",
        "colab_type": "code",
        "colab": {}
      },
      "source": [
        "#initialization\n",
        "import matplotlib.pyplot as plt\n",
        "%matplotlib inline\n",
        "%config InlineBackend.figure_format = 'svg' \n",
        "from math import pi\n",
        "import numpy as np\n",
        "\n",
        "# importing Qiskit\n",
        "from qiskit import QuantumCircuit, execute, Aer, IBMQ\n",
        "from qiskit.tools.jupyter import *\n",
        "from qiskit.visualization import *\n",
        "\n",
        "# import basic plot tools\n",
        "from qiskit.visualization import plot_histogram"
      ],
      "execution_count": 0,
      "outputs": []
    },
    {
      "cell_type": "markdown",
      "metadata": {
        "id": "sCC-nASpXUIV",
        "colab_type": "text"
      },
      "source": [
        "Four qubits as counting qubits, and qubit 3 as the eigenstate of the unitary operator ( 𝑇 )."
      ]
    },
    {
      "cell_type": "code",
      "metadata": {
        "id": "luC_ts4rXJJH",
        "colab_type": "code",
        "colab": {
          "base_uri": "https://localhost:8080/",
          "height": 367
        },
        "outputId": "63c186cc-2b19-481c-e222-b071545db339"
      },
      "source": [
        "qpe = QuantumCircuit(4, 3)\n",
        "qpe.x(3)\n",
        "qpe.draw(output='mpl')"
      ],
      "execution_count": 34,
      "outputs": [
        {
          "output_type": "execute_result",
          "data": {
            "text/plain": [
              "<Figure size 238.392x325.08 with 1 Axes>"
            ],
            "image/svg+xml": "<?xml version=\"1.0\" encoding=\"utf-8\" standalone=\"no\"?>\n<!DOCTYPE svg PUBLIC \"-//W3C//DTD SVG 1.1//EN\"\n  \"http://www.w3.org/Graphics/SVG/1.1/DTD/svg11.dtd\">\n<!-- Created with matplotlib (https://matplotlib.org/) -->\n<svg height=\"259.8354pt\" version=\"1.1\" viewBox=\"0 0 194.38596 259.8354\" width=\"194.38596pt\" xmlns=\"http://www.w3.org/2000/svg\" xmlns:xlink=\"http://www.w3.org/1999/xlink\">\n <defs>\n  <style type=\"text/css\">\n*{stroke-linecap:butt;stroke-linejoin:round;}\n  </style>\n </defs>\n <g id=\"figure_1\">\n  <g id=\"patch_1\">\n   <path d=\"M -0 259.8354 \nL 194.38596 259.8354 \nL 194.38596 0 \nL -0 0 \nz\n\" style=\"fill:#ffffff;\"/>\n  </g>\n  <g id=\"axes_1\">\n   <g id=\"line2d_1\">\n    <path clip-path=\"url(#pb59acde8c2)\" d=\"M 100.82906 43.5608 \nL 182.64086 43.5608 \n\" style=\"fill:none;stroke:#000000;stroke-linecap:square;stroke-width:2;\"/>\n   </g>\n   <g id=\"line2d_2\">\n    <path clip-path=\"url(#pb59acde8c2)\" d=\"M 100.82906 89.0118 \nL 182.64086 89.0118 \n\" style=\"fill:none;stroke:#000000;stroke-linecap:square;stroke-width:2;\"/>\n   </g>\n   <g id=\"line2d_3\">\n    <path clip-path=\"url(#pb59acde8c2)\" d=\"M 100.82906 134.4628 \nL 182.64086 134.4628 \n\" style=\"fill:none;stroke:#000000;stroke-linecap:square;stroke-width:2;\"/>\n   </g>\n   <g id=\"line2d_4\">\n    <path clip-path=\"url(#pb59acde8c2)\" d=\"M 100.82906 179.9138 \nL 182.64086 179.9138 \n\" style=\"fill:none;stroke:#000000;stroke-linecap:square;stroke-width:2;\"/>\n   </g>\n   <g id=\"line2d_5\">\n    <path clip-path=\"url(#pb59acde8c2)\" d=\"M 100.82906 223.887643 \nL 182.64086 223.887643 \n\" style=\"fill:none;stroke:#778899;stroke-linecap:square;stroke-width:2;\"/>\n   </g>\n   <g id=\"line2d_6\">\n    <path clip-path=\"url(#pb59acde8c2)\" d=\"M 100.82906 226.841958 \nL 182.64086 226.841958 \n\" style=\"fill:none;stroke:#778899;stroke-linecap:square;stroke-width:2;\"/>\n   </g>\n   <g id=\"line2d_7\">\n    <path clip-path=\"url(#pb59acde8c2)\" d=\"M 141.73496 229.9099 \nL 146.28006 220.8197 \n\" style=\"fill:none;stroke:#778899;stroke-linecap:square;stroke-width:1.5;\"/>\n   </g>\n   <g id=\"patch_2\">\n    <path clip-path=\"url(#pb59acde8c2)\" d=\"M 122.418285 194.685375 \nL 151.961435 194.685375 \nL 151.961435 165.142225 \nL 122.418285 165.142225 \nz\n\" style=\"fill:#05bab6;\"/>\n   </g>\n   <g id=\"text_1\">\n    <g clip-path=\"url(#pb59acde8c2)\">\n     <!-- $X$ -->\n     <defs>\n      <path d=\"M 13.71875 72.90625 \nL 23.6875 72.90625 \nL 36.1875 46.578125 \nL 58.796875 72.90625 \nL 70.3125 72.90625 \nL 40.28125 38.09375 \nL 58.40625 0 \nL 48.484375 0 \nL 33.796875 30.71875 \nL 7.171875 0 \nL -4.296875 0 \nL 29.78125 39.203125 \nz\n\" id=\"DejaVuSans-Oblique-88\"/>\n     </defs>\n     <g transform=\"translate(132.70486 183.500988)scale(0.13 -0.13)\">\n      <use transform=\"translate(0 0.09375)\" xlink:href=\"#DejaVuSans-Oblique-88\"/>\n     </g>\n    </g>\n   </g>\n   <g id=\"text_2\">\n    <g clip-path=\"url(#pb59acde8c2)\">\n     <!-- ${q}_{0}$ -->\n     <defs>\n      <path d=\"M 41.703125 8.203125 \nQ 38.09375 3.46875 33.171875 1.015625 \nQ 28.265625 -1.421875 22.3125 -1.421875 \nQ 14.015625 -1.421875 9.296875 4.171875 \nQ 4.59375 9.765625 4.59375 19.578125 \nQ 4.59375 27.484375 7.5 34.859375 \nQ 10.40625 42.234375 15.828125 48.09375 \nQ 19.34375 51.90625 23.90625 53.953125 \nQ 28.46875 56 33.5 56 \nQ 39.546875 56 43.453125 53.609375 \nQ 47.359375 51.21875 49.125 46.390625 \nL 50.6875 54.59375 \nL 59.71875 54.59375 \nL 45.125 -20.609375 \nL 36.078125 -20.609375 \nz\nM 13.921875 20.90625 \nQ 13.921875 13.671875 16.9375 9.890625 \nQ 19.96875 6.109375 25.6875 6.109375 \nQ 34.1875 6.109375 40.1875 14.234375 \nQ 46.1875 22.359375 46.1875 33.984375 \nQ 46.1875 41.015625 43.078125 44.75 \nQ 39.984375 48.484375 34.1875 48.484375 \nQ 29.9375 48.484375 26.3125 46.5 \nQ 22.703125 44.53125 20.015625 40.71875 \nQ 17.1875 36.71875 15.546875 31.34375 \nQ 13.921875 25.984375 13.921875 20.90625 \nz\n\" id=\"DejaVuSans-Oblique-113\"/>\n      <path d=\"M 31.78125 66.40625 \nQ 24.171875 66.40625 20.328125 58.90625 \nQ 16.5 51.421875 16.5 36.375 \nQ 16.5 21.390625 20.328125 13.890625 \nQ 24.171875 6.390625 31.78125 6.390625 \nQ 39.453125 6.390625 43.28125 13.890625 \nQ 47.125 21.390625 47.125 36.375 \nQ 47.125 51.421875 43.28125 58.90625 \nQ 39.453125 66.40625 31.78125 66.40625 \nz\nM 31.78125 74.21875 \nQ 44.046875 74.21875 50.515625 64.515625 \nQ 56.984375 54.828125 56.984375 36.375 \nQ 56.984375 17.96875 50.515625 8.265625 \nQ 44.046875 -1.421875 31.78125 -1.421875 \nQ 19.53125 -1.421875 13.0625 8.265625 \nQ 6.59375 17.96875 6.59375 36.375 \nQ 6.59375 54.828125 13.0625 64.515625 \nQ 19.53125 74.21875 31.78125 74.21875 \nz\n\" id=\"DejaVuSans-48\"/>\n     </defs>\n     <g transform=\"translate(64.61116 48.011777)scale(0.1625 -0.1625)\">\n      <use xlink:href=\"#DejaVuSans-Oblique-113\"/>\n      <use transform=\"translate(63.476562 -16.40625)scale(0.7)\" xlink:href=\"#DejaVuSans-48\"/>\n     </g>\n    </g>\n   </g>\n   <g id=\"text_3\">\n    <g clip-path=\"url(#pb59acde8c2)\">\n     <!-- ${q}_{1}$ -->\n     <defs>\n      <path d=\"M 12.40625 8.296875 \nL 28.515625 8.296875 \nL 28.515625 63.921875 \nL 10.984375 60.40625 \nL 10.984375 69.390625 \nL 28.421875 72.90625 \nL 38.28125 72.90625 \nL 38.28125 8.296875 \nL 54.390625 8.296875 \nL 54.390625 0 \nL 12.40625 0 \nz\n\" id=\"DejaVuSans-49\"/>\n     </defs>\n     <g transform=\"translate(64.61116 93.462777)scale(0.1625 -0.1625)\">\n      <use xlink:href=\"#DejaVuSans-Oblique-113\"/>\n      <use transform=\"translate(63.476562 -16.40625)scale(0.7)\" xlink:href=\"#DejaVuSans-49\"/>\n     </g>\n    </g>\n   </g>\n   <g id=\"text_4\">\n    <g clip-path=\"url(#pb59acde8c2)\">\n     <!-- ${q}_{2}$ -->\n     <defs>\n      <path d=\"M 19.1875 8.296875 \nL 53.609375 8.296875 \nL 53.609375 0 \nL 7.328125 0 \nL 7.328125 8.296875 \nQ 12.9375 14.109375 22.625 23.890625 \nQ 32.328125 33.6875 34.8125 36.53125 \nQ 39.546875 41.84375 41.421875 45.53125 \nQ 43.3125 49.21875 43.3125 52.78125 \nQ 43.3125 58.59375 39.234375 62.25 \nQ 35.15625 65.921875 28.609375 65.921875 \nQ 23.96875 65.921875 18.8125 64.3125 \nQ 13.671875 62.703125 7.8125 59.421875 \nL 7.8125 69.390625 \nQ 13.765625 71.78125 18.9375 73 \nQ 24.125 74.21875 28.421875 74.21875 \nQ 39.75 74.21875 46.484375 68.546875 \nQ 53.21875 62.890625 53.21875 53.421875 \nQ 53.21875 48.921875 51.53125 44.890625 \nQ 49.859375 40.875 45.40625 35.40625 \nQ 44.1875 33.984375 37.640625 27.21875 \nQ 31.109375 20.453125 19.1875 8.296875 \nz\n\" id=\"DejaVuSans-50\"/>\n     </defs>\n     <g transform=\"translate(64.61116 138.913777)scale(0.1625 -0.1625)\">\n      <use xlink:href=\"#DejaVuSans-Oblique-113\"/>\n      <use transform=\"translate(63.476562 -16.40625)scale(0.7)\" xlink:href=\"#DejaVuSans-50\"/>\n     </g>\n    </g>\n   </g>\n   <g id=\"text_5\">\n    <g clip-path=\"url(#pb59acde8c2)\">\n     <!-- ${q}_{3}$ -->\n     <defs>\n      <path d=\"M 40.578125 39.3125 \nQ 47.65625 37.796875 51.625 33 \nQ 55.609375 28.21875 55.609375 21.1875 \nQ 55.609375 10.40625 48.1875 4.484375 \nQ 40.765625 -1.421875 27.09375 -1.421875 \nQ 22.515625 -1.421875 17.65625 -0.515625 \nQ 12.796875 0.390625 7.625 2.203125 \nL 7.625 11.71875 \nQ 11.71875 9.328125 16.59375 8.109375 \nQ 21.484375 6.890625 26.8125 6.890625 \nQ 36.078125 6.890625 40.9375 10.546875 \nQ 45.796875 14.203125 45.796875 21.1875 \nQ 45.796875 27.640625 41.28125 31.265625 \nQ 36.765625 34.90625 28.71875 34.90625 \nL 20.21875 34.90625 \nL 20.21875 43.015625 \nL 29.109375 43.015625 \nQ 36.375 43.015625 40.234375 45.921875 \nQ 44.09375 48.828125 44.09375 54.296875 \nQ 44.09375 59.90625 40.109375 62.90625 \nQ 36.140625 65.921875 28.71875 65.921875 \nQ 24.65625 65.921875 20.015625 65.03125 \nQ 15.375 64.15625 9.8125 62.3125 \nL 9.8125 71.09375 \nQ 15.4375 72.65625 20.34375 73.4375 \nQ 25.25 74.21875 29.59375 74.21875 \nQ 40.828125 74.21875 47.359375 69.109375 \nQ 53.90625 64.015625 53.90625 55.328125 \nQ 53.90625 49.265625 50.4375 45.09375 \nQ 46.96875 40.921875 40.578125 39.3125 \nz\n\" id=\"DejaVuSans-51\"/>\n     </defs>\n     <g transform=\"translate(64.61116 184.364777)scale(0.1625 -0.1625)\">\n      <use xlink:href=\"#DejaVuSans-Oblique-113\"/>\n      <use transform=\"translate(63.476562 -16.40625)scale(0.7)\" xlink:href=\"#DejaVuSans-51\"/>\n     </g>\n    </g>\n   </g>\n   <g id=\"text_6\">\n    <g clip-path=\"url(#pb59acde8c2)\">\n     <!-- 3 -->\n     <g transform=\"translate(137.18986 218.656825)scale(0.104 -0.104)\">\n      <use xlink:href=\"#DejaVuSans-51\"/>\n     </g>\n    </g>\n   </g>\n   <g id=\"text_7\">\n    <g clip-path=\"url(#pb59acde8c2)\">\n     <!-- $c$ -->\n     <defs>\n      <path d=\"M 53.609375 52.59375 \nL 51.8125 43.703125 \nQ 48.578125 46.046875 44.9375 47.21875 \nQ 41.3125 48.390625 37.40625 48.390625 \nQ 33.109375 48.390625 29.21875 46.875 \nQ 25.34375 45.359375 22.703125 42.578125 \nQ 18.5 38.328125 16.203125 32.609375 \nQ 13.921875 26.90625 13.921875 20.796875 \nQ 13.921875 13.421875 17.609375 9.8125 \nQ 21.296875 6.203125 28.8125 6.203125 \nQ 32.515625 6.203125 36.6875 7.328125 \nQ 40.875 8.453125 45.40625 10.6875 \nL 43.703125 1.8125 \nQ 39.796875 0.203125 35.671875 -0.609375 \nQ 31.546875 -1.421875 27.203125 -1.421875 \nQ 16.3125 -1.421875 10.453125 4.015625 \nQ 4.59375 9.46875 4.59375 19.578125 \nQ 4.59375 28.078125 7.640625 35.234375 \nQ 10.6875 42.390625 16.703125 48.09375 \nQ 20.796875 52 26.3125 54 \nQ 31.84375 56 38.375 56 \nQ 42.1875 56 45.9375 55.140625 \nQ 49.703125 54.296875 53.609375 52.59375 \nz\n\" id=\"DejaVuSans-Oblique-99\"/>\n     </defs>\n     <g transform=\"translate(71.92366 230.745581)scale(0.195 -0.195)\">\n      <use xlink:href=\"#DejaVuSans-Oblique-99\"/>\n     </g>\n    </g>\n   </g>\n  </g>\n </g>\n <defs>\n  <clipPath id=\"pb59acde8c2\">\n   <rect height=\"245.4354\" width=\"179.98596\" x=\"7.2\" y=\"7.2\"/>\n  </clipPath>\n </defs>\n</svg>\n"
          },
          "metadata": {
            "tags": []
          },
          "execution_count": 34
        }
      ]
    },
    {
      "cell_type": "markdown",
      "metadata": {
        "id": "LzvnsmA2XcqX",
        "colab_type": "text"
      },
      "source": [
        "Hadamard test"
      ]
    },
    {
      "cell_type": "code",
      "metadata": {
        "id": "IFsOZa2iXdhh",
        "colab_type": "code",
        "colab": {
          "base_uri": "https://localhost:8080/",
          "height": 367
        },
        "outputId": "1c755fd2-fefc-4688-af09-070d3a848190"
      },
      "source": [
        "for qubit in range(3):\n",
        "    qpe.h(qubit)\n",
        "qpe.draw(output='mpl')"
      ],
      "execution_count": 35,
      "outputs": [
        {
          "output_type": "execute_result",
          "data": {
            "text/plain": [
              "<Figure size 238.392x325.08 with 1 Axes>"
            ],
            "image/svg+xml": "<?xml version=\"1.0\" encoding=\"utf-8\" standalone=\"no\"?>\n<!DOCTYPE svg PUBLIC \"-//W3C//DTD SVG 1.1//EN\"\n  \"http://www.w3.org/Graphics/SVG/1.1/DTD/svg11.dtd\">\n<!-- Created with matplotlib (https://matplotlib.org/) -->\n<svg height=\"259.8354pt\" version=\"1.1\" viewBox=\"0 0 194.38596 259.8354\" width=\"194.38596pt\" xmlns=\"http://www.w3.org/2000/svg\" xmlns:xlink=\"http://www.w3.org/1999/xlink\">\n <defs>\n  <style type=\"text/css\">\n*{stroke-linecap:butt;stroke-linejoin:round;}\n  </style>\n </defs>\n <g id=\"figure_1\">\n  <g id=\"patch_1\">\n   <path d=\"M -0 259.8354 \nL 194.38596 259.8354 \nL 194.38596 0 \nL -0 0 \nz\n\" style=\"fill:#ffffff;\"/>\n  </g>\n  <g id=\"axes_1\">\n   <g id=\"line2d_1\">\n    <path clip-path=\"url(#pefb39ab457)\" d=\"M 100.82906 43.5608 \nL 182.64086 43.5608 \n\" style=\"fill:none;stroke:#000000;stroke-linecap:square;stroke-width:2;\"/>\n   </g>\n   <g id=\"line2d_2\">\n    <path clip-path=\"url(#pefb39ab457)\" d=\"M 100.82906 89.0118 \nL 182.64086 89.0118 \n\" style=\"fill:none;stroke:#000000;stroke-linecap:square;stroke-width:2;\"/>\n   </g>\n   <g id=\"line2d_3\">\n    <path clip-path=\"url(#pefb39ab457)\" d=\"M 100.82906 134.4628 \nL 182.64086 134.4628 \n\" style=\"fill:none;stroke:#000000;stroke-linecap:square;stroke-width:2;\"/>\n   </g>\n   <g id=\"line2d_4\">\n    <path clip-path=\"url(#pefb39ab457)\" d=\"M 100.82906 179.9138 \nL 182.64086 179.9138 \n\" style=\"fill:none;stroke:#000000;stroke-linecap:square;stroke-width:2;\"/>\n   </g>\n   <g id=\"line2d_5\">\n    <path clip-path=\"url(#pefb39ab457)\" d=\"M 100.82906 223.887643 \nL 182.64086 223.887643 \n\" style=\"fill:none;stroke:#778899;stroke-linecap:square;stroke-width:2;\"/>\n   </g>\n   <g id=\"line2d_6\">\n    <path clip-path=\"url(#pefb39ab457)\" d=\"M 100.82906 226.841958 \nL 182.64086 226.841958 \n\" style=\"fill:none;stroke:#778899;stroke-linecap:square;stroke-width:2;\"/>\n   </g>\n   <g id=\"line2d_7\">\n    <path clip-path=\"url(#pefb39ab457)\" d=\"M 141.73496 229.9099 \nL 146.28006 220.8197 \n\" style=\"fill:none;stroke:#778899;stroke-linecap:square;stroke-width:1.5;\"/>\n   </g>\n   <g id=\"patch_2\">\n    <path clip-path=\"url(#pefb39ab457)\" d=\"M 122.418285 194.685375 \nL 151.961435 194.685375 \nL 151.961435 165.142225 \nL 122.418285 165.142225 \nz\n\" style=\"fill:#05bab6;\"/>\n   </g>\n   <g id=\"patch_3\">\n    <path clip-path=\"url(#pefb39ab457)\" d=\"M 122.418285 58.332375 \nL 151.961435 58.332375 \nL 151.961435 28.789225 \nL 122.418285 28.789225 \nz\n\" style=\"fill:#6fa4ff;\"/>\n   </g>\n   <g id=\"patch_4\">\n    <path clip-path=\"url(#pefb39ab457)\" d=\"M 122.418285 103.783375 \nL 151.961435 103.783375 \nL 151.961435 74.240225 \nL 122.418285 74.240225 \nz\n\" style=\"fill:#6fa4ff;\"/>\n   </g>\n   <g id=\"patch_5\">\n    <path clip-path=\"url(#pefb39ab457)\" d=\"M 122.418285 149.234375 \nL 151.961435 149.234375 \nL 151.961435 119.691225 \nL 122.418285 119.691225 \nz\n\" style=\"fill:#6fa4ff;\"/>\n   </g>\n   <g id=\"text_1\">\n    <g clip-path=\"url(#pefb39ab457)\">\n     <!-- $X$ -->\n     <defs>\n      <path d=\"M 13.71875 72.90625 \nL 23.6875 72.90625 \nL 36.1875 46.578125 \nL 58.796875 72.90625 \nL 70.3125 72.90625 \nL 40.28125 38.09375 \nL 58.40625 0 \nL 48.484375 0 \nL 33.796875 30.71875 \nL 7.171875 0 \nL -4.296875 0 \nL 29.78125 39.203125 \nz\n\" id=\"DejaVuSans-Oblique-88\"/>\n     </defs>\n     <g transform=\"translate(132.70486 183.500988)scale(0.13 -0.13)\">\n      <use transform=\"translate(0 0.09375)\" xlink:href=\"#DejaVuSans-Oblique-88\"/>\n     </g>\n    </g>\n   </g>\n   <g id=\"text_2\">\n    <g clip-path=\"url(#pefb39ab457)\">\n     <!-- $H$ -->\n     <defs>\n      <path d=\"M 16.890625 72.90625 \nL 26.8125 72.90625 \nL 21 43.015625 \nL 56.78125 43.015625 \nL 62.59375 72.90625 \nL 72.515625 72.90625 \nL 58.296875 0 \nL 48.390625 0 \nL 55.171875 34.71875 \nL 19.390625 34.71875 \nL 12.59375 0 \nL 2.6875 0 \nz\n\" id=\"DejaVuSans-Oblique-72\"/>\n     </defs>\n     <g transform=\"translate(132.24986 47.147987)scale(0.13 -0.13)\">\n      <use transform=\"translate(0 0.09375)\" xlink:href=\"#DejaVuSans-Oblique-72\"/>\n     </g>\n    </g>\n   </g>\n   <g id=\"text_3\">\n    <g clip-path=\"url(#pefb39ab457)\">\n     <!-- $H$ -->\n     <g transform=\"translate(132.24986 92.598987)scale(0.13 -0.13)\">\n      <use transform=\"translate(0 0.09375)\" xlink:href=\"#DejaVuSans-Oblique-72\"/>\n     </g>\n    </g>\n   </g>\n   <g id=\"text_4\">\n    <g clip-path=\"url(#pefb39ab457)\">\n     <!-- $H$ -->\n     <g transform=\"translate(132.24986 138.049988)scale(0.13 -0.13)\">\n      <use transform=\"translate(0 0.09375)\" xlink:href=\"#DejaVuSans-Oblique-72\"/>\n     </g>\n    </g>\n   </g>\n   <g id=\"text_5\">\n    <g clip-path=\"url(#pefb39ab457)\">\n     <!-- ${q}_{0}$ -->\n     <defs>\n      <path d=\"M 41.703125 8.203125 \nQ 38.09375 3.46875 33.171875 1.015625 \nQ 28.265625 -1.421875 22.3125 -1.421875 \nQ 14.015625 -1.421875 9.296875 4.171875 \nQ 4.59375 9.765625 4.59375 19.578125 \nQ 4.59375 27.484375 7.5 34.859375 \nQ 10.40625 42.234375 15.828125 48.09375 \nQ 19.34375 51.90625 23.90625 53.953125 \nQ 28.46875 56 33.5 56 \nQ 39.546875 56 43.453125 53.609375 \nQ 47.359375 51.21875 49.125 46.390625 \nL 50.6875 54.59375 \nL 59.71875 54.59375 \nL 45.125 -20.609375 \nL 36.078125 -20.609375 \nz\nM 13.921875 20.90625 \nQ 13.921875 13.671875 16.9375 9.890625 \nQ 19.96875 6.109375 25.6875 6.109375 \nQ 34.1875 6.109375 40.1875 14.234375 \nQ 46.1875 22.359375 46.1875 33.984375 \nQ 46.1875 41.015625 43.078125 44.75 \nQ 39.984375 48.484375 34.1875 48.484375 \nQ 29.9375 48.484375 26.3125 46.5 \nQ 22.703125 44.53125 20.015625 40.71875 \nQ 17.1875 36.71875 15.546875 31.34375 \nQ 13.921875 25.984375 13.921875 20.90625 \nz\n\" id=\"DejaVuSans-Oblique-113\"/>\n      <path d=\"M 31.78125 66.40625 \nQ 24.171875 66.40625 20.328125 58.90625 \nQ 16.5 51.421875 16.5 36.375 \nQ 16.5 21.390625 20.328125 13.890625 \nQ 24.171875 6.390625 31.78125 6.390625 \nQ 39.453125 6.390625 43.28125 13.890625 \nQ 47.125 21.390625 47.125 36.375 \nQ 47.125 51.421875 43.28125 58.90625 \nQ 39.453125 66.40625 31.78125 66.40625 \nz\nM 31.78125 74.21875 \nQ 44.046875 74.21875 50.515625 64.515625 \nQ 56.984375 54.828125 56.984375 36.375 \nQ 56.984375 17.96875 50.515625 8.265625 \nQ 44.046875 -1.421875 31.78125 -1.421875 \nQ 19.53125 -1.421875 13.0625 8.265625 \nQ 6.59375 17.96875 6.59375 36.375 \nQ 6.59375 54.828125 13.0625 64.515625 \nQ 19.53125 74.21875 31.78125 74.21875 \nz\n\" id=\"DejaVuSans-48\"/>\n     </defs>\n     <g transform=\"translate(64.61116 48.011777)scale(0.1625 -0.1625)\">\n      <use xlink:href=\"#DejaVuSans-Oblique-113\"/>\n      <use transform=\"translate(63.476562 -16.40625)scale(0.7)\" xlink:href=\"#DejaVuSans-48\"/>\n     </g>\n    </g>\n   </g>\n   <g id=\"text_6\">\n    <g clip-path=\"url(#pefb39ab457)\">\n     <!-- ${q}_{1}$ -->\n     <defs>\n      <path d=\"M 12.40625 8.296875 \nL 28.515625 8.296875 \nL 28.515625 63.921875 \nL 10.984375 60.40625 \nL 10.984375 69.390625 \nL 28.421875 72.90625 \nL 38.28125 72.90625 \nL 38.28125 8.296875 \nL 54.390625 8.296875 \nL 54.390625 0 \nL 12.40625 0 \nz\n\" id=\"DejaVuSans-49\"/>\n     </defs>\n     <g transform=\"translate(64.61116 93.462777)scale(0.1625 -0.1625)\">\n      <use xlink:href=\"#DejaVuSans-Oblique-113\"/>\n      <use transform=\"translate(63.476562 -16.40625)scale(0.7)\" xlink:href=\"#DejaVuSans-49\"/>\n     </g>\n    </g>\n   </g>\n   <g id=\"text_7\">\n    <g clip-path=\"url(#pefb39ab457)\">\n     <!-- ${q}_{2}$ -->\n     <defs>\n      <path d=\"M 19.1875 8.296875 \nL 53.609375 8.296875 \nL 53.609375 0 \nL 7.328125 0 \nL 7.328125 8.296875 \nQ 12.9375 14.109375 22.625 23.890625 \nQ 32.328125 33.6875 34.8125 36.53125 \nQ 39.546875 41.84375 41.421875 45.53125 \nQ 43.3125 49.21875 43.3125 52.78125 \nQ 43.3125 58.59375 39.234375 62.25 \nQ 35.15625 65.921875 28.609375 65.921875 \nQ 23.96875 65.921875 18.8125 64.3125 \nQ 13.671875 62.703125 7.8125 59.421875 \nL 7.8125 69.390625 \nQ 13.765625 71.78125 18.9375 73 \nQ 24.125 74.21875 28.421875 74.21875 \nQ 39.75 74.21875 46.484375 68.546875 \nQ 53.21875 62.890625 53.21875 53.421875 \nQ 53.21875 48.921875 51.53125 44.890625 \nQ 49.859375 40.875 45.40625 35.40625 \nQ 44.1875 33.984375 37.640625 27.21875 \nQ 31.109375 20.453125 19.1875 8.296875 \nz\n\" id=\"DejaVuSans-50\"/>\n     </defs>\n     <g transform=\"translate(64.61116 138.913777)scale(0.1625 -0.1625)\">\n      <use xlink:href=\"#DejaVuSans-Oblique-113\"/>\n      <use transform=\"translate(63.476562 -16.40625)scale(0.7)\" xlink:href=\"#DejaVuSans-50\"/>\n     </g>\n    </g>\n   </g>\n   <g id=\"text_8\">\n    <g clip-path=\"url(#pefb39ab457)\">\n     <!-- ${q}_{3}$ -->\n     <defs>\n      <path d=\"M 40.578125 39.3125 \nQ 47.65625 37.796875 51.625 33 \nQ 55.609375 28.21875 55.609375 21.1875 \nQ 55.609375 10.40625 48.1875 4.484375 \nQ 40.765625 -1.421875 27.09375 -1.421875 \nQ 22.515625 -1.421875 17.65625 -0.515625 \nQ 12.796875 0.390625 7.625 2.203125 \nL 7.625 11.71875 \nQ 11.71875 9.328125 16.59375 8.109375 \nQ 21.484375 6.890625 26.8125 6.890625 \nQ 36.078125 6.890625 40.9375 10.546875 \nQ 45.796875 14.203125 45.796875 21.1875 \nQ 45.796875 27.640625 41.28125 31.265625 \nQ 36.765625 34.90625 28.71875 34.90625 \nL 20.21875 34.90625 \nL 20.21875 43.015625 \nL 29.109375 43.015625 \nQ 36.375 43.015625 40.234375 45.921875 \nQ 44.09375 48.828125 44.09375 54.296875 \nQ 44.09375 59.90625 40.109375 62.90625 \nQ 36.140625 65.921875 28.71875 65.921875 \nQ 24.65625 65.921875 20.015625 65.03125 \nQ 15.375 64.15625 9.8125 62.3125 \nL 9.8125 71.09375 \nQ 15.4375 72.65625 20.34375 73.4375 \nQ 25.25 74.21875 29.59375 74.21875 \nQ 40.828125 74.21875 47.359375 69.109375 \nQ 53.90625 64.015625 53.90625 55.328125 \nQ 53.90625 49.265625 50.4375 45.09375 \nQ 46.96875 40.921875 40.578125 39.3125 \nz\n\" id=\"DejaVuSans-51\"/>\n     </defs>\n     <g transform=\"translate(64.61116 184.364777)scale(0.1625 -0.1625)\">\n      <use xlink:href=\"#DejaVuSans-Oblique-113\"/>\n      <use transform=\"translate(63.476562 -16.40625)scale(0.7)\" xlink:href=\"#DejaVuSans-51\"/>\n     </g>\n    </g>\n   </g>\n   <g id=\"text_9\">\n    <g clip-path=\"url(#pefb39ab457)\">\n     <!-- 3 -->\n     <g transform=\"translate(137.18986 218.656825)scale(0.104 -0.104)\">\n      <use xlink:href=\"#DejaVuSans-51\"/>\n     </g>\n    </g>\n   </g>\n   <g id=\"text_10\">\n    <g clip-path=\"url(#pefb39ab457)\">\n     <!-- $c$ -->\n     <defs>\n      <path d=\"M 53.609375 52.59375 \nL 51.8125 43.703125 \nQ 48.578125 46.046875 44.9375 47.21875 \nQ 41.3125 48.390625 37.40625 48.390625 \nQ 33.109375 48.390625 29.21875 46.875 \nQ 25.34375 45.359375 22.703125 42.578125 \nQ 18.5 38.328125 16.203125 32.609375 \nQ 13.921875 26.90625 13.921875 20.796875 \nQ 13.921875 13.421875 17.609375 9.8125 \nQ 21.296875 6.203125 28.8125 6.203125 \nQ 32.515625 6.203125 36.6875 7.328125 \nQ 40.875 8.453125 45.40625 10.6875 \nL 43.703125 1.8125 \nQ 39.796875 0.203125 35.671875 -0.609375 \nQ 31.546875 -1.421875 27.203125 -1.421875 \nQ 16.3125 -1.421875 10.453125 4.015625 \nQ 4.59375 9.46875 4.59375 19.578125 \nQ 4.59375 28.078125 7.640625 35.234375 \nQ 10.6875 42.390625 16.703125 48.09375 \nQ 20.796875 52 26.3125 54 \nQ 31.84375 56 38.375 56 \nQ 42.1875 56 45.9375 55.140625 \nQ 49.703125 54.296875 53.609375 52.59375 \nz\n\" id=\"DejaVuSans-Oblique-99\"/>\n     </defs>\n     <g transform=\"translate(71.92366 230.745581)scale(0.195 -0.195)\">\n      <use xlink:href=\"#DejaVuSans-Oblique-99\"/>\n     </g>\n    </g>\n   </g>\n  </g>\n </g>\n <defs>\n  <clipPath id=\"pefb39ab457\">\n   <rect height=\"245.4354\" width=\"179.98596\" x=\"7.2\" y=\"7.2\"/>\n  </clipPath>\n </defs>\n</svg>\n"
          },
          "metadata": {
            "tags": []
          },
          "execution_count": 35
        }
      ]
    },
    {
      "cell_type": "markdown",
      "metadata": {
        "id": "TaNvjhI2WFPm",
        "colab_type": "text"
      },
      "source": [
        "Inverse Fourier function"
      ]
    },
    {
      "cell_type": "code",
      "metadata": {
        "id": "QJFgz6UcVVFk",
        "colab_type": "code",
        "colab": {}
      },
      "source": [
        "def inverse_fourier(circ,n):\n",
        "  for qubit in range(n//2):\n",
        "        circ.swap(qubit, n-qubit-1)\n",
        "  for j in range(n):\n",
        "    for m in range(j):\n",
        "      circ.cu3(0, -math.pi/float(2**(j-m)),0, m, j)\n",
        "      #apply hadamard\n",
        "    circ.h(j)"
      ],
      "execution_count": 0,
      "outputs": []
    },
    {
      "cell_type": "code",
      "metadata": {
        "id": "6Ou-rm4JWidQ",
        "colab_type": "code",
        "colab": {}
      },
      "source": [
        "qpe.barrier()\n",
        "# Apply inverse QFT\n",
        "inverse_fourier(qpe, 3)\n",
        "# Measure\n",
        "qpe.barrier()\n",
        "for n in range(3):\n",
        "    qpe.measure(n,n)"
      ],
      "execution_count": 0,
      "outputs": []
    },
    {
      "cell_type": "code",
      "metadata": {
        "id": "8VLPJr_XW5Dh",
        "colab_type": "code",
        "colab": {
          "base_uri": "https://localhost:8080/",
          "height": 367
        },
        "outputId": "710ede17-a7ca-460d-d042-b36faa735105"
      },
      "source": [
        "qpe.draw(output=\"mpl\")\n"
      ],
      "execution_count": 38,
      "outputs": [
        {
          "output_type": "execute_result",
          "data": {
            "text/plain": [
              "<Figure size 1141.39x325.08 with 1 Axes>"
            ],
            "image/svg+xml": "<?xml version=\"1.0\" encoding=\"utf-8\" standalone=\"no\"?>\n<!DOCTYPE svg PUBLIC \"-//W3C//DTD SVG 1.1//EN\"\n  \"http://www.w3.org/Graphics/SVG/1.1/DTD/svg11.dtd\">\n<!-- Created with matplotlib (https://matplotlib.org/) -->\n<svg height=\"259.8354pt\" version=\"1.1\" viewBox=\"0 0 876.15096 259.8354\" width=\"876.15096pt\" xmlns=\"http://www.w3.org/2000/svg\" xmlns:xlink=\"http://www.w3.org/1999/xlink\">\n <defs>\n  <style type=\"text/css\">\n*{stroke-linecap:butt;stroke-linejoin:round;}\n  </style>\n </defs>\n <g id=\"figure_1\">\n  <g id=\"patch_1\">\n   <path d=\"M 0 259.8354 \nL 876.15096 259.8354 \nL 876.15096 0 \nL 0 0 \nz\n\" style=\"fill:#ffffff;\"/>\n  </g>\n  <g id=\"axes_1\">\n   <g id=\"patch_2\">\n    <path clip-path=\"url(#p1c921d4e98)\" d=\"M 722.14423 215.024698 \nL 733.96149 215.024698 \nL 728.05286 225.3648 \nz\n\" style=\"fill:#778899;\"/>\n   </g>\n   <g id=\"patch_3\">\n    <path clip-path=\"url(#p1c921d4e98)\" d=\"M 767.59523 215.024698 \nL 779.41249 215.024698 \nL 773.50386 225.3648 \nz\n\" style=\"fill:#778899;\"/>\n   </g>\n   <g id=\"patch_4\">\n    <path clip-path=\"url(#p1c921d4e98)\" d=\"M 813.04623 215.024698 \nL 824.86349 215.024698 \nL 818.95486 225.3648 \nz\n\" style=\"fill:#778899;\"/>\n   </g>\n   <g id=\"line2d_1\">\n    <path clip-path=\"url(#p1c921d4e98)\" d=\"M 100.82906 43.5608 \nL 864.40586 43.5608 \n\" style=\"fill:none;stroke:#000000;stroke-linecap:square;stroke-width:2;\"/>\n   </g>\n   <g id=\"line2d_2\">\n    <path clip-path=\"url(#p1c921d4e98)\" d=\"M 100.82906 89.0118 \nL 864.40586 89.0118 \n\" style=\"fill:none;stroke:#000000;stroke-linecap:square;stroke-width:2;\"/>\n   </g>\n   <g id=\"line2d_3\">\n    <path clip-path=\"url(#p1c921d4e98)\" d=\"M 100.82906 134.4628 \nL 864.40586 134.4628 \n\" style=\"fill:none;stroke:#000000;stroke-linecap:square;stroke-width:2;\"/>\n   </g>\n   <g id=\"line2d_4\">\n    <path clip-path=\"url(#p1c921d4e98)\" d=\"M 100.82906 179.9138 \nL 864.40586 179.9138 \n\" style=\"fill:none;stroke:#000000;stroke-linecap:square;stroke-width:2;\"/>\n   </g>\n   <g id=\"line2d_5\">\n    <path clip-path=\"url(#p1c921d4e98)\" d=\"M 100.82906 223.887643 \nL 864.40586 223.887643 \n\" style=\"fill:none;stroke:#778899;stroke-linecap:square;stroke-width:2;\"/>\n   </g>\n   <g id=\"line2d_6\">\n    <path clip-path=\"url(#p1c921d4e98)\" d=\"M 100.82906 226.841958 \nL 864.40586 226.841958 \n\" style=\"fill:none;stroke:#778899;stroke-linecap:square;stroke-width:2;\"/>\n   </g>\n   <g id=\"patch_5\">\n    <path clip-path=\"url(#p1c921d4e98)\" d=\"M 173.777915 202.6393 \nL 191.503805 202.6393 \nL 191.503805 20.8353 \nL 173.777915 20.8353 \nz\n\" style=\"fill:#bdbdbd;opacity:0.6;\"/>\n   </g>\n   <g id=\"patch_6\">\n    <path clip-path=\"url(#p1c921d4e98)\" d=\"M 673.738915 202.6393 \nL 691.464805 202.6393 \nL 691.464805 20.8353 \nL 673.738915 20.8353 \nz\n\" style=\"fill:#bdbdbd;opacity:0.6;\"/>\n   </g>\n   <g id=\"line2d_7\">\n    <path clip-path=\"url(#p1c921d4e98)\" d=\"M 228.09186 134.4628 \nL 228.09186 43.5608 \n\" style=\"fill:none;stroke:#6fa4ff;stroke-linecap:square;stroke-width:2;\"/>\n   </g>\n   <g id=\"line2d_8\">\n    <path clip-path=\"url(#p1c921d4e98)\" d=\"M 341.71936 89.0118 \nL 341.71936 43.5608 \n\" style=\"fill:none;stroke:#bb8bff;stroke-linecap:square;stroke-width:2;\"/>\n   </g>\n   <g id=\"line2d_9\">\n    <path clip-path=\"url(#p1c921d4e98)\" d=\"M 478.07236 134.4628 \nL 478.07236 43.5608 \n\" style=\"fill:none;stroke:#bb8bff;stroke-linecap:square;stroke-width:2;\"/>\n   </g>\n   <g id=\"line2d_10\">\n    <path clip-path=\"url(#p1c921d4e98)\" d=\"M 568.97436 134.4628 \nL 568.97436 89.0118 \n\" style=\"fill:none;stroke:#bb8bff;stroke-linecap:square;stroke-width:2;\"/>\n   </g>\n   <g id=\"line2d_11\">\n    <path clip-path=\"url(#p1c921d4e98)\" d=\"M 729.530017 43.5608 \nL 729.530017 215.024698 \n\" style=\"fill:none;stroke:#778899;stroke-linecap:square;stroke-width:2;\"/>\n   </g>\n   <g id=\"line2d_12\">\n    <path clip-path=\"url(#p1c921d4e98)\" d=\"M 726.575702 43.5608 \nL 726.575702 215.024698 \n\" style=\"fill:none;stroke:#778899;stroke-linecap:square;stroke-width:2;\"/>\n   </g>\n   <g id=\"line2d_13\">\n    <path clip-path=\"url(#p1c921d4e98)\" d=\"M 774.981017 89.0118 \nL 774.981017 215.024698 \n\" style=\"fill:none;stroke:#778899;stroke-linecap:square;stroke-width:2;\"/>\n   </g>\n   <g id=\"line2d_14\">\n    <path clip-path=\"url(#p1c921d4e98)\" d=\"M 772.026702 89.0118 \nL 772.026702 215.024698 \n\" style=\"fill:none;stroke:#778899;stroke-linecap:square;stroke-width:2;\"/>\n   </g>\n   <g id=\"line2d_15\">\n    <path clip-path=\"url(#p1c921d4e98)\" d=\"M 820.432017 134.4628 \nL 820.432017 215.024698 \n\" style=\"fill:none;stroke:#778899;stroke-linecap:square;stroke-width:2;\"/>\n   </g>\n   <g id=\"line2d_16\">\n    <path clip-path=\"url(#p1c921d4e98)\" d=\"M 817.477702 134.4628 \nL 817.477702 215.024698 \n\" style=\"fill:none;stroke:#778899;stroke-linecap:square;stroke-width:2;\"/>\n   </g>\n   <g id=\"line2d_17\">\n    <path clip-path=\"url(#p1c921d4e98)\" d=\"M 141.73496 229.9099 \nL 146.28006 220.8197 \n\" style=\"fill:none;stroke:#778899;stroke-linecap:square;stroke-width:1.5;\"/>\n   </g>\n   <g id=\"line2d_18\">\n    <path clip-path=\"url(#p1c921d4e98)\" d=\"M 222.18323 49.46943 \nL 234.00049 37.65217 \n\" style=\"fill:none;stroke:#6fa4ff;stroke-linecap:square;stroke-width:2;\"/>\n   </g>\n   <g id=\"line2d_19\">\n    <path clip-path=\"url(#p1c921d4e98)\" d=\"M 222.18323 37.65217 \nL 234.00049 49.46943 \n\" style=\"fill:none;stroke:#6fa4ff;stroke-linecap:square;stroke-width:2;\"/>\n   </g>\n   <g id=\"line2d_20\">\n    <path clip-path=\"url(#p1c921d4e98)\" d=\"M 222.18323 140.37143 \nL 234.00049 128.55417 \n\" style=\"fill:none;stroke:#6fa4ff;stroke-linecap:square;stroke-width:2;\"/>\n   </g>\n   <g id=\"line2d_21\">\n    <path clip-path=\"url(#p1c921d4e98)\" d=\"M 222.18323 128.55417 \nL 234.00049 140.37143 \n\" style=\"fill:none;stroke:#6fa4ff;stroke-linecap:square;stroke-width:2;\"/>\n   </g>\n   <g id=\"patch_7\">\n    <path clip-path=\"url(#p1c921d4e98)\" d=\"M 122.418285 194.685375 \nL 151.961435 194.685375 \nL 151.961435 165.142225 \nL 122.418285 165.142225 \nz\n\" style=\"fill:#05bab6;\"/>\n   </g>\n   <g id=\"patch_8\">\n    <path clip-path=\"url(#p1c921d4e98)\" d=\"M 122.418285 58.332375 \nL 151.961435 58.332375 \nL 151.961435 28.789225 \nL 122.418285 28.789225 \nz\n\" style=\"fill:#6fa4ff;\"/>\n   </g>\n   <g id=\"patch_9\">\n    <path clip-path=\"url(#p1c921d4e98)\" d=\"M 122.418285 103.783375 \nL 151.961435 103.783375 \nL 151.961435 74.240225 \nL 122.418285 74.240225 \nz\n\" style=\"fill:#6fa4ff;\"/>\n   </g>\n   <g id=\"patch_10\">\n    <path clip-path=\"url(#p1c921d4e98)\" d=\"M 122.418285 149.234375 \nL 151.961435 149.234375 \nL 151.961435 119.691225 \nL 122.418285 119.691225 \nz\n\" style=\"fill:#6fa4ff;\"/>\n   </g>\n   <g id=\"patch_11\">\n    <path clip-path=\"url(#p1c921d4e98)\" d=\"M 258.771285 58.332375 \nL 288.314435 58.332375 \nL 288.314435 28.789225 \nL 258.771285 28.789225 \nz\n\" style=\"fill:#6fa4ff;\"/>\n   </g>\n   <g id=\"patch_12\">\n    <path clip-path=\"url(#p1c921d4e98)\" d=\"M 341.71936 47.992272 \nC 342.8946 47.992272 344.021864 47.525345 344.852884 46.694324 \nC 345.683905 45.863304 346.150832 44.73604 346.150832 43.5608 \nC 346.150832 42.38556 345.683905 41.258296 344.852884 40.427276 \nC 344.021864 39.596255 342.8946 39.129328 341.71936 39.129328 \nC 340.54412 39.129328 339.416856 39.596255 338.585836 40.427276 \nC 337.754815 41.258296 337.287888 42.38556 337.287888 43.5608 \nC 337.287888 44.73604 337.754815 45.863304 338.585836 46.694324 \nC 339.416856 47.525345 340.54412 47.992272 341.71936 47.992272 \nz\n\" style=\"fill:#bb8bff;stroke:#bb8bff;stroke-linejoin:miter;stroke-width:1.5;\"/>\n   </g>\n   <g id=\"patch_13\">\n    <path clip-path=\"url(#p1c921d4e98)\" d=\"M 315.130525 103.783375 \nL 368.308195 103.783375 \nL 368.308195 74.240225 \nL 315.130525 74.240225 \nz\n\" style=\"fill:#bb8bff;\"/>\n   </g>\n   <g id=\"patch_14\">\n    <path clip-path=\"url(#p1c921d4e98)\" d=\"M 395.124285 103.783375 \nL 424.667435 103.783375 \nL 424.667435 74.240225 \nL 395.124285 74.240225 \nz\n\" style=\"fill:#6fa4ff;\"/>\n   </g>\n   <g id=\"patch_15\">\n    <path clip-path=\"url(#p1c921d4e98)\" d=\"M 478.07236 47.992272 \nC 479.2476 47.992272 480.374864 47.525345 481.205884 46.694324 \nC 482.036905 45.863304 482.503832 44.73604 482.503832 43.5608 \nC 482.503832 42.38556 482.036905 41.258296 481.205884 40.427276 \nC 480.374864 39.596255 479.2476 39.129328 478.07236 39.129328 \nC 476.89712 39.129328 475.769856 39.596255 474.938836 40.427276 \nC 474.107815 41.258296 473.640887 42.38556 473.640887 43.5608 \nC 473.640887 44.73604 474.107815 45.863304 474.938836 46.694324 \nC 475.769856 47.525345 476.89712 47.992272 478.07236 47.992272 \nz\n\" style=\"fill:#bb8bff;stroke:#bb8bff;stroke-linejoin:miter;stroke-width:1.5;\"/>\n   </g>\n   <g id=\"patch_16\">\n    <path clip-path=\"url(#p1c921d4e98)\" d=\"M 451.483525 149.234375 \nL 504.661195 149.234375 \nL 504.661195 119.691225 \nL 451.483525 119.691225 \nz\n\" style=\"fill:#bb8bff;\"/>\n   </g>\n   <g id=\"patch_17\">\n    <path clip-path=\"url(#p1c921d4e98)\" d=\"M 568.97436 93.443272 \nC 570.1496 93.443272 571.276864 92.976345 572.107884 92.145324 \nC 572.938905 91.314304 573.405832 90.18704 573.405832 89.0118 \nC 573.405832 87.83656 572.938905 86.709296 572.107884 85.878276 \nC 571.276864 85.047255 570.1496 84.580327 568.97436 84.580327 \nC 567.79912 84.580327 566.671856 85.047255 565.840836 85.878276 \nC 565.009815 86.709296 564.542887 87.83656 564.542887 89.0118 \nC 564.542887 90.18704 565.009815 91.314304 565.840836 92.145324 \nC 566.671856 92.976345 567.79912 93.443272 568.97436 93.443272 \nz\n\" style=\"fill:#bb8bff;stroke:#bb8bff;stroke-linejoin:miter;stroke-width:1.5;\"/>\n   </g>\n   <g id=\"patch_18\">\n    <path clip-path=\"url(#p1c921d4e98)\" d=\"M 542.385525 149.234375 \nL 595.563195 149.234375 \nL 595.563195 119.691225 \nL 542.385525 119.691225 \nz\n\" style=\"fill:#bb8bff;\"/>\n   </g>\n   <g id=\"patch_19\">\n    <path clip-path=\"url(#p1c921d4e98)\" d=\"M 622.379285 149.234375 \nL 651.922435 149.234375 \nL 651.922435 119.691225 \nL 622.379285 119.691225 \nz\n\" style=\"fill:#6fa4ff;\"/>\n   </g>\n   <g id=\"patch_20\">\n    <path clip-path=\"url(#p1c921d4e98)\" d=\"M 713.281285 58.332375 \nL 742.824435 58.332375 \nL 742.824435 28.789225 \nL 713.281285 28.789225 \nz\n\"/>\n   </g>\n   <g id=\"patch_21\">\n    <path clip-path=\"url(#p1c921d4e98)\" d=\"M 738.392962 47.992273 \nC 738.392962 45.250959 737.302818 42.619118 735.364417 40.680716 \nC 733.426015 38.742314 730.794174 37.65217 728.05286 37.65217 \nC 725.311546 37.65217 722.679705 38.742314 720.741303 40.680716 \nC 718.802902 42.619118 717.712757 45.250959 717.712757 47.992273 \n\" style=\"fill:none;stroke:#ffffff;stroke-linejoin:miter;stroke-width:2;\"/>\n   </g>\n   <g id=\"patch_22\">\n    <path clip-path=\"url(#p1c921d4e98)\" d=\"M 758.732285 103.783375 \nL 788.275435 103.783375 \nL 788.275435 74.240225 \nL 758.732285 74.240225 \nz\n\"/>\n   </g>\n   <g id=\"patch_23\">\n    <path clip-path=\"url(#p1c921d4e98)\" d=\"M 783.843962 93.443273 \nC 783.843962 90.701959 782.753818 88.070118 780.815417 86.131716 \nC 778.877015 84.193314 776.245174 83.10317 773.50386 83.10317 \nC 770.762546 83.10317 768.130705 84.193314 766.192303 86.131716 \nC 764.253902 88.070118 763.163757 90.701959 763.163757 93.443273 \n\" style=\"fill:none;stroke:#ffffff;stroke-linejoin:miter;stroke-width:2;\"/>\n   </g>\n   <g id=\"patch_24\">\n    <path clip-path=\"url(#p1c921d4e98)\" d=\"M 804.183285 149.234375 \nL 833.726435 149.234375 \nL 833.726435 119.691225 \nL 804.183285 119.691225 \nz\n\"/>\n   </g>\n   <g id=\"patch_25\">\n    <path clip-path=\"url(#p1c921d4e98)\" d=\"M 829.294962 138.894273 \nC 829.294962 136.152959 828.204818 133.521118 826.266417 131.582716 \nC 824.328015 129.644314 821.696174 128.55417 818.95486 128.55417 \nC 816.213546 128.55417 813.581705 129.644314 811.643303 131.582716 \nC 809.704902 133.521118 808.614757 136.152959 808.614757 138.894273 \n\" style=\"fill:none;stroke:#ffffff;stroke-linejoin:miter;stroke-width:2;\"/>\n   </g>\n   <g id=\"line2d_22\">\n    <path clip-path=\"url(#p1c921d4e98)\" d=\"M 728.05286 47.992272 \nL 738.392962 37.65217 \n\" style=\"fill:none;stroke:#ffffff;stroke-linecap:square;stroke-width:2;\"/>\n   </g>\n   <g id=\"line2d_23\">\n    <path clip-path=\"url(#p1c921d4e98)\" d=\"M 773.50386 93.443273 \nL 783.843962 83.10317 \n\" style=\"fill:none;stroke:#ffffff;stroke-linecap:square;stroke-width:2;\"/>\n   </g>\n   <g id=\"line2d_24\">\n    <path clip-path=\"url(#p1c921d4e98)\" d=\"M 818.95486 138.894273 \nL 829.294962 128.55417 \n\" style=\"fill:none;stroke:#ffffff;stroke-linecap:square;stroke-width:2;\"/>\n   </g>\n   <g id=\"line2d_25\">\n    <path clip-path=\"url(#p1c921d4e98)\" d=\"M 182.64086 20.8353 \nL 182.64086 66.2863 \n\" style=\"fill:none;stroke:#000000;stroke-dasharray:3.7,1.6;stroke-dashoffset:0;\"/>\n   </g>\n   <g id=\"line2d_26\">\n    <path clip-path=\"url(#p1c921d4e98)\" d=\"M 182.64086 66.2863 \nL 182.64086 111.7373 \n\" style=\"fill:none;stroke:#000000;stroke-dasharray:3.7,1.6;stroke-dashoffset:0;\"/>\n   </g>\n   <g id=\"line2d_27\">\n    <path clip-path=\"url(#p1c921d4e98)\" d=\"M 182.64086 111.7373 \nL 182.64086 157.1883 \n\" style=\"fill:none;stroke:#000000;stroke-dasharray:3.7,1.6;stroke-dashoffset:0;\"/>\n   </g>\n   <g id=\"line2d_28\">\n    <path clip-path=\"url(#p1c921d4e98)\" d=\"M 182.64086 157.1883 \nL 182.64086 202.6393 \n\" style=\"fill:none;stroke:#000000;stroke-dasharray:3.7,1.6;stroke-dashoffset:0;\"/>\n   </g>\n   <g id=\"line2d_29\">\n    <path clip-path=\"url(#p1c921d4e98)\" d=\"M 682.60186 20.8353 \nL 682.60186 66.2863 \n\" style=\"fill:none;stroke:#000000;stroke-dasharray:3.7,1.6;stroke-dashoffset:0;\"/>\n   </g>\n   <g id=\"line2d_30\">\n    <path clip-path=\"url(#p1c921d4e98)\" d=\"M 682.60186 66.2863 \nL 682.60186 111.7373 \n\" style=\"fill:none;stroke:#000000;stroke-dasharray:3.7,1.6;stroke-dashoffset:0;\"/>\n   </g>\n   <g id=\"line2d_31\">\n    <path clip-path=\"url(#p1c921d4e98)\" d=\"M 682.60186 111.7373 \nL 682.60186 157.1883 \n\" style=\"fill:none;stroke:#000000;stroke-dasharray:3.7,1.6;stroke-dashoffset:0;\"/>\n   </g>\n   <g id=\"line2d_32\">\n    <path clip-path=\"url(#p1c921d4e98)\" d=\"M 682.60186 157.1883 \nL 682.60186 202.6393 \n\" style=\"fill:none;stroke:#000000;stroke-dasharray:3.7,1.6;stroke-dashoffset:0;\"/>\n   </g>\n   <g id=\"text_1\">\n    <g clip-path=\"url(#p1c921d4e98)\">\n     <!-- $X$ -->\n     <defs>\n      <path d=\"M 13.71875 72.90625 \nL 23.6875 72.90625 \nL 36.1875 46.578125 \nL 58.796875 72.90625 \nL 70.3125 72.90625 \nL 40.28125 38.09375 \nL 58.40625 0 \nL 48.484375 0 \nL 33.796875 30.71875 \nL 7.171875 0 \nL -4.296875 0 \nL 29.78125 39.203125 \nz\n\" id=\"DejaVuSans-Oblique-88\"/>\n     </defs>\n     <g transform=\"translate(132.70486 183.500988)scale(0.13 -0.13)\">\n      <use transform=\"translate(0 0.09375)\" xlink:href=\"#DejaVuSans-Oblique-88\"/>\n     </g>\n    </g>\n   </g>\n   <g id=\"text_2\">\n    <g clip-path=\"url(#p1c921d4e98)\">\n     <!-- $H$ -->\n     <defs>\n      <path d=\"M 16.890625 72.90625 \nL 26.8125 72.90625 \nL 21 43.015625 \nL 56.78125 43.015625 \nL 62.59375 72.90625 \nL 72.515625 72.90625 \nL 58.296875 0 \nL 48.390625 0 \nL 55.171875 34.71875 \nL 19.390625 34.71875 \nL 12.59375 0 \nL 2.6875 0 \nz\n\" id=\"DejaVuSans-Oblique-72\"/>\n     </defs>\n     <g transform=\"translate(132.24986 47.147987)scale(0.13 -0.13)\">\n      <use transform=\"translate(0 0.09375)\" xlink:href=\"#DejaVuSans-Oblique-72\"/>\n     </g>\n    </g>\n   </g>\n   <g id=\"text_3\">\n    <g clip-path=\"url(#p1c921d4e98)\">\n     <!-- $H$ -->\n     <g transform=\"translate(132.24986 92.598987)scale(0.13 -0.13)\">\n      <use transform=\"translate(0 0.09375)\" xlink:href=\"#DejaVuSans-Oblique-72\"/>\n     </g>\n    </g>\n   </g>\n   <g id=\"text_4\">\n    <g clip-path=\"url(#p1c921d4e98)\">\n     <!-- $H$ -->\n     <g transform=\"translate(132.24986 138.049988)scale(0.13 -0.13)\">\n      <use transform=\"translate(0 0.09375)\" xlink:href=\"#DejaVuSans-Oblique-72\"/>\n     </g>\n    </g>\n   </g>\n   <g id=\"text_5\">\n    <g clip-path=\"url(#p1c921d4e98)\">\n     <!-- $H$ -->\n     <g transform=\"translate(268.60286 47.147987)scale(0.13 -0.13)\">\n      <use transform=\"translate(0 0.09375)\" xlink:href=\"#DejaVuSans-Oblique-72\"/>\n     </g>\n    </g>\n   </g>\n   <g id=\"text_6\">\n    <g clip-path=\"url(#p1c921d4e98)\">\n     <!-- $U_3$ -->\n     <defs>\n      <path d=\"M 15.484375 72.90625 \nL 25.390625 72.90625 \nL 16.796875 28.609375 \nQ 16.265625 25.640625 16.046875 23.703125 \nQ 15.828125 21.78125 15.828125 20.3125 \nQ 15.828125 13.578125 19.578125 10.078125 \nQ 23.34375 6.59375 30.609375 6.59375 \nQ 40.046875 6.59375 45.28125 11.765625 \nQ 50.53125 16.9375 52.78125 28.609375 \nL 61.375 72.90625 \nL 71.296875 72.90625 \nL 62.5 27.390625 \nQ 59.625 12.640625 51.5625 5.609375 \nQ 43.5 -1.421875 29.5 -1.421875 \nQ 18.5625 -1.421875 12.1875 4.078125 \nQ 5.8125 9.578125 5.8125 19 \nQ 5.8125 20.703125 6.046875 22.828125 \nQ 6.296875 24.953125 6.78125 27.390625 \nz\n\" id=\"DejaVuSans-Oblique-85\"/>\n      <path d=\"M 40.578125 39.3125 \nQ 47.65625 37.796875 51.625 33 \nQ 55.609375 28.21875 55.609375 21.1875 \nQ 55.609375 10.40625 48.1875 4.484375 \nQ 40.765625 -1.421875 27.09375 -1.421875 \nQ 22.515625 -1.421875 17.65625 -0.515625 \nQ 12.796875 0.390625 7.625 2.203125 \nL 7.625 11.71875 \nQ 11.71875 9.328125 16.59375 8.109375 \nQ 21.484375 6.890625 26.8125 6.890625 \nQ 36.078125 6.890625 40.9375 10.546875 \nQ 45.796875 14.203125 45.796875 21.1875 \nQ 45.796875 27.640625 41.28125 31.265625 \nQ 36.765625 34.90625 28.71875 34.90625 \nL 20.21875 34.90625 \nL 20.21875 43.015625 \nL 29.109375 43.015625 \nQ 36.375 43.015625 40.234375 45.921875 \nQ 44.09375 48.828125 44.09375 54.296875 \nQ 44.09375 59.90625 40.109375 62.90625 \nQ 36.140625 65.921875 28.71875 65.921875 \nQ 24.65625 65.921875 20.015625 65.03125 \nQ 15.375 64.15625 9.8125 62.3125 \nL 9.8125 71.09375 \nQ 15.4375 72.65625 20.34375 73.4375 \nQ 25.25 74.21875 29.59375 74.21875 \nQ 40.828125 74.21875 47.359375 69.109375 \nQ 53.90625 64.015625 53.90625 55.328125 \nQ 53.90625 49.265625 50.4375 45.09375 \nQ 46.96875 40.921875 40.578125 39.3125 \nz\n\" id=\"DejaVuSans-51\"/>\n     </defs>\n     <g transform=\"translate(333.85436 88.167515)scale(0.13 -0.13)\">\n      <use transform=\"translate(0 0.09375)\" xlink:href=\"#DejaVuSans-Oblique-85\"/>\n      <use transform=\"translate(73.193359 -16.3125)scale(0.7)\" xlink:href=\"#DejaVuSans-51\"/>\n     </g>\n    </g>\n   </g>\n   <g id=\"text_7\">\n    <g clip-path=\"url(#p1c921d4e98)\">\n     <!-- 0, $-$$\\pi$/2, 0 -->\n     <defs>\n      <path d=\"M 31.78125 66.40625 \nQ 24.171875 66.40625 20.328125 58.90625 \nQ 16.5 51.421875 16.5 36.375 \nQ 16.5 21.390625 20.328125 13.890625 \nQ 24.171875 6.390625 31.78125 6.390625 \nQ 39.453125 6.390625 43.28125 13.890625 \nQ 47.125 21.390625 47.125 36.375 \nQ 47.125 51.421875 43.28125 58.90625 \nQ 39.453125 66.40625 31.78125 66.40625 \nz\nM 31.78125 74.21875 \nQ 44.046875 74.21875 50.515625 64.515625 \nQ 56.984375 54.828125 56.984375 36.375 \nQ 56.984375 17.96875 50.515625 8.265625 \nQ 44.046875 -1.421875 31.78125 -1.421875 \nQ 19.53125 -1.421875 13.0625 8.265625 \nQ 6.59375 17.96875 6.59375 36.375 \nQ 6.59375 54.828125 13.0625 64.515625 \nQ 19.53125 74.21875 31.78125 74.21875 \nz\n\" id=\"DejaVuSans-48\"/>\n      <path d=\"M 11.71875 12.40625 \nL 22.015625 12.40625 \nL 22.015625 4 \nL 14.015625 -11.625 \nL 7.71875 -11.625 \nL 11.71875 4 \nz\n\" id=\"DejaVuSans-44\"/>\n      <path id=\"DejaVuSans-32\"/>\n      <path d=\"M 10.59375 35.5 \nL 73.1875 35.5 \nL 73.1875 27.203125 \nL 10.59375 27.203125 \nz\n\" id=\"DejaVuSans-8722\"/>\n      <path d=\"M 9.125 54.6875 \nL 61.53125 54.6875 \nL 59.765625 45.703125 \nL 52.875 45.703125 \nL 46.34375 12.109375 \nQ 45.65625 8.59375 46.578125 7.03125 \nQ 47.46875 5.515625 50.140625 5.515625 \nQ 50.875 5.515625 51.953125 5.671875 \nQ 53.078125 5.765625 53.421875 5.8125 \nL 52.15625 -0.6875 \nQ 50.34375 -1.3125 48.484375 -1.609375 \nQ 46.578125 -1.90625 44.78125 -1.90625 \nQ 38.921875 -1.90625 37.3125 1.265625 \nQ 35.6875 4.5 37.359375 13.09375 \nL 43.703125 45.703125 \nL 23.53125 45.703125 \nL 14.65625 0 \nL 5.46875 0 \nL 14.359375 45.703125 \nL 7.375 45.703125 \nz\n\" id=\"DejaVuSans-Oblique-960\"/>\n      <path d=\"M 25.390625 72.90625 \nL 33.6875 72.90625 \nL 8.296875 -9.28125 \nL 0 -9.28125 \nz\n\" id=\"DejaVuSans-47\"/>\n      <path d=\"M 19.1875 8.296875 \nL 53.609375 8.296875 \nL 53.609375 0 \nL 7.328125 0 \nL 7.328125 8.296875 \nQ 12.9375 14.109375 22.625 23.890625 \nQ 32.328125 33.6875 34.8125 36.53125 \nQ 39.546875 41.84375 41.421875 45.53125 \nQ 43.3125 49.21875 43.3125 52.78125 \nQ 43.3125 58.59375 39.234375 62.25 \nQ 35.15625 65.921875 28.609375 65.921875 \nQ 23.96875 65.921875 18.8125 64.3125 \nQ 13.671875 62.703125 7.8125 59.421875 \nL 7.8125 69.390625 \nQ 13.765625 71.78125 18.9375 73 \nQ 24.125 74.21875 28.421875 74.21875 \nQ 39.75 74.21875 46.484375 68.546875 \nQ 53.21875 62.890625 53.21875 53.421875 \nQ 53.21875 48.921875 51.53125 44.890625 \nQ 49.859375 40.875 45.40625 35.40625 \nQ 44.1875 33.984375 37.640625 27.21875 \nQ 31.109375 20.453125 19.1875 8.296875 \nz\n\" id=\"DejaVuSans-50\"/>\n     </defs>\n     <g transform=\"translate(321.99936 100.082245)scale(0.08 -0.08)\">\n      <use transform=\"translate(0 0.78125)\" xlink:href=\"#DejaVuSans-48\"/>\n      <use transform=\"translate(63.623047 0.78125)\" xlink:href=\"#DejaVuSans-44\"/>\n      <use transform=\"translate(95.410156 0.78125)\" xlink:href=\"#DejaVuSans-32\"/>\n      <use transform=\"translate(127.197266 0.78125)\" xlink:href=\"#DejaVuSans-8722\"/>\n      <use transform=\"translate(210.986328 0.78125)\" xlink:href=\"#DejaVuSans-Oblique-960\"/>\n      <use transform=\"translate(271.191406 0.78125)\" xlink:href=\"#DejaVuSans-47\"/>\n      <use transform=\"translate(301.257812 0.78125)\" xlink:href=\"#DejaVuSans-50\"/>\n      <use transform=\"translate(364.880859 0.78125)\" xlink:href=\"#DejaVuSans-44\"/>\n      <use transform=\"translate(396.667969 0.78125)\" xlink:href=\"#DejaVuSans-32\"/>\n      <use transform=\"translate(428.455078 0.78125)\" xlink:href=\"#DejaVuSans-48\"/>\n     </g>\n    </g>\n   </g>\n   <g id=\"text_8\">\n    <g clip-path=\"url(#p1c921d4e98)\">\n     <!-- $H$ -->\n     <g transform=\"translate(404.95586 92.598987)scale(0.13 -0.13)\">\n      <use transform=\"translate(0 0.09375)\" xlink:href=\"#DejaVuSans-Oblique-72\"/>\n     </g>\n    </g>\n   </g>\n   <g id=\"text_9\">\n    <g clip-path=\"url(#p1c921d4e98)\">\n     <!-- $U_3$ -->\n     <g transform=\"translate(470.20736 133.618515)scale(0.13 -0.13)\">\n      <use transform=\"translate(0 0.09375)\" xlink:href=\"#DejaVuSans-Oblique-85\"/>\n      <use transform=\"translate(73.193359 -16.3125)scale(0.7)\" xlink:href=\"#DejaVuSans-51\"/>\n     </g>\n    </g>\n   </g>\n   <g id=\"text_10\">\n    <g clip-path=\"url(#p1c921d4e98)\">\n     <!-- 0, $-$$\\pi$/4, 0 -->\n     <defs>\n      <path d=\"M 37.796875 64.3125 \nL 12.890625 25.390625 \nL 37.796875 25.390625 \nz\nM 35.203125 72.90625 \nL 47.609375 72.90625 \nL 47.609375 25.390625 \nL 58.015625 25.390625 \nL 58.015625 17.1875 \nL 47.609375 17.1875 \nL 47.609375 0 \nL 37.796875 0 \nL 37.796875 17.1875 \nL 4.890625 17.1875 \nL 4.890625 26.703125 \nz\n\" id=\"DejaVuSans-52\"/>\n     </defs>\n     <g transform=\"translate(458.23236 145.533245)scale(0.08 -0.08)\">\n      <use transform=\"translate(0 0.78125)\" xlink:href=\"#DejaVuSans-48\"/>\n      <use transform=\"translate(63.623047 0.78125)\" xlink:href=\"#DejaVuSans-44\"/>\n      <use transform=\"translate(95.410156 0.78125)\" xlink:href=\"#DejaVuSans-32\"/>\n      <use transform=\"translate(127.197266 0.78125)\" xlink:href=\"#DejaVuSans-8722\"/>\n      <use transform=\"translate(210.986328 0.78125)\" xlink:href=\"#DejaVuSans-Oblique-960\"/>\n      <use transform=\"translate(271.191406 0.78125)\" xlink:href=\"#DejaVuSans-47\"/>\n      <use transform=\"translate(304.882812 0.78125)\" xlink:href=\"#DejaVuSans-52\"/>\n      <use transform=\"translate(368.505859 0.78125)\" xlink:href=\"#DejaVuSans-44\"/>\n      <use transform=\"translate(400.292969 0.78125)\" xlink:href=\"#DejaVuSans-32\"/>\n      <use transform=\"translate(432.080078 0.78125)\" xlink:href=\"#DejaVuSans-48\"/>\n     </g>\n    </g>\n   </g>\n   <g id=\"text_11\">\n    <g clip-path=\"url(#p1c921d4e98)\">\n     <!-- $U_3$ -->\n     <g transform=\"translate(561.10936 133.618515)scale(0.13 -0.13)\">\n      <use transform=\"translate(0 0.09375)\" xlink:href=\"#DejaVuSans-Oblique-85\"/>\n      <use transform=\"translate(73.193359 -16.3125)scale(0.7)\" xlink:href=\"#DejaVuSans-51\"/>\n     </g>\n    </g>\n   </g>\n   <g id=\"text_12\">\n    <g clip-path=\"url(#p1c921d4e98)\">\n     <!-- 0, $-$$\\pi$/2, 0 -->\n     <g transform=\"translate(549.25436 145.533245)scale(0.08 -0.08)\">\n      <use transform=\"translate(0 0.78125)\" xlink:href=\"#DejaVuSans-48\"/>\n      <use transform=\"translate(63.623047 0.78125)\" xlink:href=\"#DejaVuSans-44\"/>\n      <use transform=\"translate(95.410156 0.78125)\" xlink:href=\"#DejaVuSans-32\"/>\n      <use transform=\"translate(127.197266 0.78125)\" xlink:href=\"#DejaVuSans-8722\"/>\n      <use transform=\"translate(210.986328 0.78125)\" xlink:href=\"#DejaVuSans-Oblique-960\"/>\n      <use transform=\"translate(271.191406 0.78125)\" xlink:href=\"#DejaVuSans-47\"/>\n      <use transform=\"translate(301.257812 0.78125)\" xlink:href=\"#DejaVuSans-50\"/>\n      <use transform=\"translate(364.880859 0.78125)\" xlink:href=\"#DejaVuSans-44\"/>\n      <use transform=\"translate(396.667969 0.78125)\" xlink:href=\"#DejaVuSans-32\"/>\n      <use transform=\"translate(428.455078 0.78125)\" xlink:href=\"#DejaVuSans-48\"/>\n     </g>\n    </g>\n   </g>\n   <g id=\"text_13\">\n    <g clip-path=\"url(#p1c921d4e98)\">\n     <!-- $H$ -->\n     <g transform=\"translate(632.21086 138.049988)scale(0.13 -0.13)\">\n      <use transform=\"translate(0 0.09375)\" xlink:href=\"#DejaVuSans-Oblique-72\"/>\n     </g>\n    </g>\n   </g>\n   <g id=\"text_14\">\n    <g clip-path=\"url(#p1c921d4e98)\">\n     <!-- 0 -->\n     <g transform=\"translate(739.41561 218.656825)scale(0.104 -0.104)\">\n      <use xlink:href=\"#DejaVuSans-48\"/>\n     </g>\n    </g>\n   </g>\n   <g id=\"text_15\">\n    <g clip-path=\"url(#p1c921d4e98)\">\n     <!-- 1 -->\n     <defs>\n      <path d=\"M 12.40625 8.296875 \nL 28.515625 8.296875 \nL 28.515625 63.921875 \nL 10.984375 60.40625 \nL 10.984375 69.390625 \nL 28.421875 72.90625 \nL 38.28125 72.90625 \nL 38.28125 8.296875 \nL 54.390625 8.296875 \nL 54.390625 0 \nL 12.40625 0 \nz\n\" id=\"DejaVuSans-49\"/>\n     </defs>\n     <g transform=\"translate(784.86661 218.656825)scale(0.104 -0.104)\">\n      <use xlink:href=\"#DejaVuSans-49\"/>\n     </g>\n    </g>\n   </g>\n   <g id=\"text_16\">\n    <g clip-path=\"url(#p1c921d4e98)\">\n     <!-- 2 -->\n     <g transform=\"translate(830.31761 218.656825)scale(0.104 -0.104)\">\n      <use xlink:href=\"#DejaVuSans-50\"/>\n     </g>\n    </g>\n   </g>\n   <g id=\"text_17\">\n    <g clip-path=\"url(#p1c921d4e98)\">\n     <!-- ${q}_{0}$ -->\n     <defs>\n      <path d=\"M 41.703125 8.203125 \nQ 38.09375 3.46875 33.171875 1.015625 \nQ 28.265625 -1.421875 22.3125 -1.421875 \nQ 14.015625 -1.421875 9.296875 4.171875 \nQ 4.59375 9.765625 4.59375 19.578125 \nQ 4.59375 27.484375 7.5 34.859375 \nQ 10.40625 42.234375 15.828125 48.09375 \nQ 19.34375 51.90625 23.90625 53.953125 \nQ 28.46875 56 33.5 56 \nQ 39.546875 56 43.453125 53.609375 \nQ 47.359375 51.21875 49.125 46.390625 \nL 50.6875 54.59375 \nL 59.71875 54.59375 \nL 45.125 -20.609375 \nL 36.078125 -20.609375 \nz\nM 13.921875 20.90625 \nQ 13.921875 13.671875 16.9375 9.890625 \nQ 19.96875 6.109375 25.6875 6.109375 \nQ 34.1875 6.109375 40.1875 14.234375 \nQ 46.1875 22.359375 46.1875 33.984375 \nQ 46.1875 41.015625 43.078125 44.75 \nQ 39.984375 48.484375 34.1875 48.484375 \nQ 29.9375 48.484375 26.3125 46.5 \nQ 22.703125 44.53125 20.015625 40.71875 \nQ 17.1875 36.71875 15.546875 31.34375 \nQ 13.921875 25.984375 13.921875 20.90625 \nz\n\" id=\"DejaVuSans-Oblique-113\"/>\n     </defs>\n     <g transform=\"translate(64.61116 48.011777)scale(0.1625 -0.1625)\">\n      <use xlink:href=\"#DejaVuSans-Oblique-113\"/>\n      <use transform=\"translate(63.476562 -16.40625)scale(0.7)\" xlink:href=\"#DejaVuSans-48\"/>\n     </g>\n    </g>\n   </g>\n   <g id=\"text_18\">\n    <g clip-path=\"url(#p1c921d4e98)\">\n     <!-- ${q}_{1}$ -->\n     <g transform=\"translate(64.61116 93.462777)scale(0.1625 -0.1625)\">\n      <use xlink:href=\"#DejaVuSans-Oblique-113\"/>\n      <use transform=\"translate(63.476562 -16.40625)scale(0.7)\" xlink:href=\"#DejaVuSans-49\"/>\n     </g>\n    </g>\n   </g>\n   <g id=\"text_19\">\n    <g clip-path=\"url(#p1c921d4e98)\">\n     <!-- ${q}_{2}$ -->\n     <g transform=\"translate(64.61116 138.913777)scale(0.1625 -0.1625)\">\n      <use xlink:href=\"#DejaVuSans-Oblique-113\"/>\n      <use transform=\"translate(63.476562 -16.40625)scale(0.7)\" xlink:href=\"#DejaVuSans-50\"/>\n     </g>\n    </g>\n   </g>\n   <g id=\"text_20\">\n    <g clip-path=\"url(#p1c921d4e98)\">\n     <!-- ${q}_{3}$ -->\n     <g transform=\"translate(64.61116 184.364777)scale(0.1625 -0.1625)\">\n      <use xlink:href=\"#DejaVuSans-Oblique-113\"/>\n      <use transform=\"translate(63.476562 -16.40625)scale(0.7)\" xlink:href=\"#DejaVuSans-51\"/>\n     </g>\n    </g>\n   </g>\n   <g id=\"text_21\">\n    <g clip-path=\"url(#p1c921d4e98)\">\n     <!-- 3 -->\n     <g transform=\"translate(137.18986 218.656825)scale(0.104 -0.104)\">\n      <use xlink:href=\"#DejaVuSans-51\"/>\n     </g>\n    </g>\n   </g>\n   <g id=\"text_22\">\n    <g clip-path=\"url(#p1c921d4e98)\">\n     <!-- $c$ -->\n     <defs>\n      <path d=\"M 53.609375 52.59375 \nL 51.8125 43.703125 \nQ 48.578125 46.046875 44.9375 47.21875 \nQ 41.3125 48.390625 37.40625 48.390625 \nQ 33.109375 48.390625 29.21875 46.875 \nQ 25.34375 45.359375 22.703125 42.578125 \nQ 18.5 38.328125 16.203125 32.609375 \nQ 13.921875 26.90625 13.921875 20.796875 \nQ 13.921875 13.421875 17.609375 9.8125 \nQ 21.296875 6.203125 28.8125 6.203125 \nQ 32.515625 6.203125 36.6875 7.328125 \nQ 40.875 8.453125 45.40625 10.6875 \nL 43.703125 1.8125 \nQ 39.796875 0.203125 35.671875 -0.609375 \nQ 31.546875 -1.421875 27.203125 -1.421875 \nQ 16.3125 -1.421875 10.453125 4.015625 \nQ 4.59375 9.46875 4.59375 19.578125 \nQ 4.59375 28.078125 7.640625 35.234375 \nQ 10.6875 42.390625 16.703125 48.09375 \nQ 20.796875 52 26.3125 54 \nQ 31.84375 56 38.375 56 \nQ 42.1875 56 45.9375 55.140625 \nQ 49.703125 54.296875 53.609375 52.59375 \nz\n\" id=\"DejaVuSans-Oblique-99\"/>\n     </defs>\n     <g transform=\"translate(71.92366 230.745581)scale(0.195 -0.195)\">\n      <use xlink:href=\"#DejaVuSans-Oblique-99\"/>\n     </g>\n    </g>\n   </g>\n  </g>\n </g>\n <defs>\n  <clipPath id=\"p1c921d4e98\">\n   <rect height=\"245.4354\" width=\"861.75096\" x=\"7.2\" y=\"7.2\"/>\n  </clipPath>\n </defs>\n</svg>\n"
          },
          "metadata": {
            "tags": []
          },
          "execution_count": 38
        }
      ]
    },
    {
      "cell_type": "code",
      "metadata": {
        "id": "fDnBA-eIX_Ad",
        "colab_type": "code",
        "colab": {
          "base_uri": "https://localhost:8080/",
          "height": 452
        },
        "outputId": "aa36f5e3-6405-44eb-c4b4-fbd48e69e5cb"
      },
      "source": [
        "backend = Aer.get_backend('qasm_simulator')\n",
        "shots = 2048\n",
        "results = execute(qpe, backend=backend, shots=shots).result()\n",
        "answer = results.get_counts()\n",
        "\n",
        "plot_histogram(answer)\n"
      ],
      "execution_count": 39,
      "outputs": [
        {
          "output_type": "execute_result",
          "data": {
            "text/plain": [
              "<Figure size 504x360 with 1 Axes>"
            ],
            "image/svg+xml": "<?xml version=\"1.0\" encoding=\"utf-8\" standalone=\"no\"?>\n<!DOCTYPE svg PUBLIC \"-//W3C//DTD SVG 1.1//EN\"\n  \"http://www.w3.org/Graphics/SVG/1.1/DTD/svg11.dtd\">\n<!-- Created with matplotlib (https://matplotlib.org/) -->\n<svg height=\"322.945095pt\" version=\"1.1\" viewBox=\"0 0 460.72125 322.945095\" width=\"460.72125pt\" xmlns=\"http://www.w3.org/2000/svg\" xmlns:xlink=\"http://www.w3.org/1999/xlink\">\n <defs>\n  <style type=\"text/css\">\n*{stroke-linecap:butt;stroke-linejoin:round;}\n  </style>\n </defs>\n <g id=\"figure_1\">\n  <g id=\"patch_1\">\n   <path d=\"M 0 322.945095 \nL 460.72125 322.945095 \nL 460.72125 0 \nL 0 0 \nz\n\" style=\"fill:none;\"/>\n  </g>\n  <g id=\"axes_1\">\n   <g id=\"patch_2\">\n    <path d=\"M 62.92125 279 \nL 453.52125 279 \nL 453.52125 7.2 \nL 62.92125 7.2 \nz\n\" style=\"fill:#ffffff;\"/>\n   </g>\n   <g id=\"matplotlib.axis_1\">\n    <g id=\"xtick_1\">\n     <g id=\"line2d_1\">\n      <defs>\n       <path d=\"M 0 0 \nL 0 3.5 \n\" id=\"mc48ce29753\" style=\"stroke:#000000;stroke-width:0.8;\"/>\n      </defs>\n      <g>\n       <use style=\"stroke:#000000;stroke-width:0.8;\" x=\"258.22125\" xlink:href=\"#mc48ce29753\" y=\"279\"/>\n      </g>\n     </g>\n     <g id=\"text_1\">\n      <!-- 000 -->\n      <defs>\n       <path d=\"M 31.78125 66.40625 \nQ 24.171875 66.40625 20.328125 58.90625 \nQ 16.5 51.421875 16.5 36.375 \nQ 16.5 21.390625 20.328125 13.890625 \nQ 24.171875 6.390625 31.78125 6.390625 \nQ 39.453125 6.390625 43.28125 13.890625 \nQ 47.125 21.390625 47.125 36.375 \nQ 47.125 51.421875 43.28125 58.90625 \nQ 39.453125 66.40625 31.78125 66.40625 \nz\nM 31.78125 74.21875 \nQ 44.046875 74.21875 50.515625 64.515625 \nQ 56.984375 54.828125 56.984375 36.375 \nQ 56.984375 17.96875 50.515625 8.265625 \nQ 44.046875 -1.421875 31.78125 -1.421875 \nQ 19.53125 -1.421875 13.0625 8.265625 \nQ 6.59375 17.96875 6.59375 36.375 \nQ 6.59375 54.828125 13.0625 64.515625 \nQ 19.53125 74.21875 31.78125 74.21875 \nz\n\" id=\"DejaVuSans-48\"/>\n      </defs>\n      <g transform=\"translate(257.281583 314.749282)rotate(-70)scale(0.14 -0.14)\">\n       <use xlink:href=\"#DejaVuSans-48\"/>\n       <use x=\"63.623047\" xlink:href=\"#DejaVuSans-48\"/>\n       <use x=\"127.246094\" xlink:href=\"#DejaVuSans-48\"/>\n      </g>\n     </g>\n    </g>\n   </g>\n   <g id=\"matplotlib.axis_2\">\n    <g id=\"ytick_1\">\n     <g id=\"line2d_2\">\n      <path clip-path=\"url(#p319b29fffe)\" d=\"M 62.92125 279 \nL 453.52125 279 \n\" style=\"fill:none;stroke:#b0b0b0;stroke-dasharray:2.96,1.28;stroke-dashoffset:0;stroke-width:0.8;\"/>\n     </g>\n     <g id=\"line2d_3\">\n      <defs>\n       <path d=\"M 0 0 \nL -3.5 0 \n\" id=\"m634f6ebaf8\" style=\"stroke:#000000;stroke-width:0.8;\"/>\n      </defs>\n      <g>\n       <use style=\"stroke:#000000;stroke-width:0.8;\" x=\"62.92125\" xlink:href=\"#m634f6ebaf8\" y=\"279\"/>\n      </g>\n     </g>\n     <g id=\"text_2\">\n      <!-- 0.00 -->\n      <defs>\n       <path d=\"M 10.6875 12.40625 \nL 21 12.40625 \nL 21 0 \nL 10.6875 0 \nz\n\" id=\"DejaVuSans-46\"/>\n      </defs>\n      <g transform=\"translate(24.749375 284.318906)scale(0.14 -0.14)\">\n       <use xlink:href=\"#DejaVuSans-48\"/>\n       <use x=\"63.623047\" xlink:href=\"#DejaVuSans-46\"/>\n       <use x=\"95.410156\" xlink:href=\"#DejaVuSans-48\"/>\n       <use x=\"159.033203\" xlink:href=\"#DejaVuSans-48\"/>\n      </g>\n     </g>\n    </g>\n    <g id=\"ytick_2\">\n     <g id=\"line2d_4\">\n      <path clip-path=\"url(#p319b29fffe)\" d=\"M 62.92125 222.375 \nL 453.52125 222.375 \n\" style=\"fill:none;stroke:#b0b0b0;stroke-dasharray:2.96,1.28;stroke-dashoffset:0;stroke-width:0.8;\"/>\n     </g>\n     <g id=\"line2d_5\">\n      <g>\n       <use style=\"stroke:#000000;stroke-width:0.8;\" x=\"62.92125\" xlink:href=\"#m634f6ebaf8\" y=\"222.375\"/>\n      </g>\n     </g>\n     <g id=\"text_3\">\n      <!-- 0.25 -->\n      <defs>\n       <path d=\"M 19.1875 8.296875 \nL 53.609375 8.296875 \nL 53.609375 0 \nL 7.328125 0 \nL 7.328125 8.296875 \nQ 12.9375 14.109375 22.625 23.890625 \nQ 32.328125 33.6875 34.8125 36.53125 \nQ 39.546875 41.84375 41.421875 45.53125 \nQ 43.3125 49.21875 43.3125 52.78125 \nQ 43.3125 58.59375 39.234375 62.25 \nQ 35.15625 65.921875 28.609375 65.921875 \nQ 23.96875 65.921875 18.8125 64.3125 \nQ 13.671875 62.703125 7.8125 59.421875 \nL 7.8125 69.390625 \nQ 13.765625 71.78125 18.9375 73 \nQ 24.125 74.21875 28.421875 74.21875 \nQ 39.75 74.21875 46.484375 68.546875 \nQ 53.21875 62.890625 53.21875 53.421875 \nQ 53.21875 48.921875 51.53125 44.890625 \nQ 49.859375 40.875 45.40625 35.40625 \nQ 44.1875 33.984375 37.640625 27.21875 \nQ 31.109375 20.453125 19.1875 8.296875 \nz\n\" id=\"DejaVuSans-50\"/>\n       <path d=\"M 10.796875 72.90625 \nL 49.515625 72.90625 \nL 49.515625 64.59375 \nL 19.828125 64.59375 \nL 19.828125 46.734375 \nQ 21.96875 47.46875 24.109375 47.828125 \nQ 26.265625 48.1875 28.421875 48.1875 \nQ 40.625 48.1875 47.75 41.5 \nQ 54.890625 34.8125 54.890625 23.390625 \nQ 54.890625 11.625 47.5625 5.09375 \nQ 40.234375 -1.421875 26.90625 -1.421875 \nQ 22.3125 -1.421875 17.546875 -0.640625 \nQ 12.796875 0.140625 7.71875 1.703125 \nL 7.71875 11.625 \nQ 12.109375 9.234375 16.796875 8.0625 \nQ 21.484375 6.890625 26.703125 6.890625 \nQ 35.15625 6.890625 40.078125 11.328125 \nQ 45.015625 15.765625 45.015625 23.390625 \nQ 45.015625 31 40.078125 35.4375 \nQ 35.15625 39.890625 26.703125 39.890625 \nQ 22.75 39.890625 18.8125 39.015625 \nQ 14.890625 38.140625 10.796875 36.28125 \nz\n\" id=\"DejaVuSans-53\"/>\n      </defs>\n      <g transform=\"translate(24.749375 227.693906)scale(0.14 -0.14)\">\n       <use xlink:href=\"#DejaVuSans-48\"/>\n       <use x=\"63.623047\" xlink:href=\"#DejaVuSans-46\"/>\n       <use x=\"95.410156\" xlink:href=\"#DejaVuSans-50\"/>\n       <use x=\"159.033203\" xlink:href=\"#DejaVuSans-53\"/>\n      </g>\n     </g>\n    </g>\n    <g id=\"ytick_3\">\n     <g id=\"line2d_6\">\n      <path clip-path=\"url(#p319b29fffe)\" d=\"M 62.92125 165.75 \nL 453.52125 165.75 \n\" style=\"fill:none;stroke:#b0b0b0;stroke-dasharray:2.96,1.28;stroke-dashoffset:0;stroke-width:0.8;\"/>\n     </g>\n     <g id=\"line2d_7\">\n      <g>\n       <use style=\"stroke:#000000;stroke-width:0.8;\" x=\"62.92125\" xlink:href=\"#m634f6ebaf8\" y=\"165.75\"/>\n      </g>\n     </g>\n     <g id=\"text_4\">\n      <!-- 0.50 -->\n      <g transform=\"translate(24.749375 171.068906)scale(0.14 -0.14)\">\n       <use xlink:href=\"#DejaVuSans-48\"/>\n       <use x=\"63.623047\" xlink:href=\"#DejaVuSans-46\"/>\n       <use x=\"95.410156\" xlink:href=\"#DejaVuSans-53\"/>\n       <use x=\"159.033203\" xlink:href=\"#DejaVuSans-48\"/>\n      </g>\n     </g>\n    </g>\n    <g id=\"ytick_4\">\n     <g id=\"line2d_8\">\n      <path clip-path=\"url(#p319b29fffe)\" d=\"M 62.92125 109.125 \nL 453.52125 109.125 \n\" style=\"fill:none;stroke:#b0b0b0;stroke-dasharray:2.96,1.28;stroke-dashoffset:0;stroke-width:0.8;\"/>\n     </g>\n     <g id=\"line2d_9\">\n      <g>\n       <use style=\"stroke:#000000;stroke-width:0.8;\" x=\"62.92125\" xlink:href=\"#m634f6ebaf8\" y=\"109.125\"/>\n      </g>\n     </g>\n     <g id=\"text_5\">\n      <!-- 0.75 -->\n      <defs>\n       <path d=\"M 8.203125 72.90625 \nL 55.078125 72.90625 \nL 55.078125 68.703125 \nL 28.609375 0 \nL 18.3125 0 \nL 43.21875 64.59375 \nL 8.203125 64.59375 \nz\n\" id=\"DejaVuSans-55\"/>\n      </defs>\n      <g transform=\"translate(24.749375 114.443906)scale(0.14 -0.14)\">\n       <use xlink:href=\"#DejaVuSans-48\"/>\n       <use x=\"63.623047\" xlink:href=\"#DejaVuSans-46\"/>\n       <use x=\"95.410156\" xlink:href=\"#DejaVuSans-55\"/>\n       <use x=\"159.033203\" xlink:href=\"#DejaVuSans-53\"/>\n      </g>\n     </g>\n    </g>\n    <g id=\"ytick_5\">\n     <g id=\"line2d_10\">\n      <path clip-path=\"url(#p319b29fffe)\" d=\"M 62.92125 52.5 \nL 453.52125 52.5 \n\" style=\"fill:none;stroke:#b0b0b0;stroke-dasharray:2.96,1.28;stroke-dashoffset:0;stroke-width:0.8;\"/>\n     </g>\n     <g id=\"line2d_11\">\n      <g>\n       <use style=\"stroke:#000000;stroke-width:0.8;\" x=\"62.92125\" xlink:href=\"#m634f6ebaf8\" y=\"52.5\"/>\n      </g>\n     </g>\n     <g id=\"text_6\">\n      <!-- 1.00 -->\n      <defs>\n       <path d=\"M 12.40625 8.296875 \nL 28.515625 8.296875 \nL 28.515625 63.921875 \nL 10.984375 60.40625 \nL 10.984375 69.390625 \nL 28.421875 72.90625 \nL 38.28125 72.90625 \nL 38.28125 8.296875 \nL 54.390625 8.296875 \nL 54.390625 0 \nL 12.40625 0 \nz\n\" id=\"DejaVuSans-49\"/>\n      </defs>\n      <g transform=\"translate(24.749375 57.818906)scale(0.14 -0.14)\">\n       <use xlink:href=\"#DejaVuSans-49\"/>\n       <use x=\"63.623047\" xlink:href=\"#DejaVuSans-46\"/>\n       <use x=\"95.410156\" xlink:href=\"#DejaVuSans-48\"/>\n       <use x=\"159.033203\" xlink:href=\"#DejaVuSans-48\"/>\n      </g>\n     </g>\n    </g>\n    <g id=\"text_7\">\n     <!-- Probabilities -->\n     <defs>\n      <path d=\"M 19.671875 64.796875 \nL 19.671875 37.40625 \nL 32.078125 37.40625 \nQ 38.96875 37.40625 42.71875 40.96875 \nQ 46.484375 44.53125 46.484375 51.125 \nQ 46.484375 57.671875 42.71875 61.234375 \nQ 38.96875 64.796875 32.078125 64.796875 \nz\nM 9.8125 72.90625 \nL 32.078125 72.90625 \nQ 44.34375 72.90625 50.609375 67.359375 \nQ 56.890625 61.8125 56.890625 51.125 \nQ 56.890625 40.328125 50.609375 34.8125 \nQ 44.34375 29.296875 32.078125 29.296875 \nL 19.671875 29.296875 \nL 19.671875 0 \nL 9.8125 0 \nz\n\" id=\"DejaVuSans-80\"/>\n      <path d=\"M 41.109375 46.296875 \nQ 39.59375 47.171875 37.8125 47.578125 \nQ 36.03125 48 33.890625 48 \nQ 26.265625 48 22.1875 43.046875 \nQ 18.109375 38.09375 18.109375 28.8125 \nL 18.109375 0 \nL 9.078125 0 \nL 9.078125 54.6875 \nL 18.109375 54.6875 \nL 18.109375 46.1875 \nQ 20.953125 51.171875 25.484375 53.578125 \nQ 30.03125 56 36.53125 56 \nQ 37.453125 56 38.578125 55.875 \nQ 39.703125 55.765625 41.0625 55.515625 \nz\n\" id=\"DejaVuSans-114\"/>\n      <path d=\"M 30.609375 48.390625 \nQ 23.390625 48.390625 19.1875 42.75 \nQ 14.984375 37.109375 14.984375 27.296875 \nQ 14.984375 17.484375 19.15625 11.84375 \nQ 23.34375 6.203125 30.609375 6.203125 \nQ 37.796875 6.203125 41.984375 11.859375 \nQ 46.1875 17.53125 46.1875 27.296875 \nQ 46.1875 37.015625 41.984375 42.703125 \nQ 37.796875 48.390625 30.609375 48.390625 \nz\nM 30.609375 56 \nQ 42.328125 56 49.015625 48.375 \nQ 55.71875 40.765625 55.71875 27.296875 \nQ 55.71875 13.875 49.015625 6.21875 \nQ 42.328125 -1.421875 30.609375 -1.421875 \nQ 18.84375 -1.421875 12.171875 6.21875 \nQ 5.515625 13.875 5.515625 27.296875 \nQ 5.515625 40.765625 12.171875 48.375 \nQ 18.84375 56 30.609375 56 \nz\n\" id=\"DejaVuSans-111\"/>\n      <path d=\"M 48.6875 27.296875 \nQ 48.6875 37.203125 44.609375 42.84375 \nQ 40.53125 48.484375 33.40625 48.484375 \nQ 26.265625 48.484375 22.1875 42.84375 \nQ 18.109375 37.203125 18.109375 27.296875 \nQ 18.109375 17.390625 22.1875 11.75 \nQ 26.265625 6.109375 33.40625 6.109375 \nQ 40.53125 6.109375 44.609375 11.75 \nQ 48.6875 17.390625 48.6875 27.296875 \nz\nM 18.109375 46.390625 \nQ 20.953125 51.265625 25.265625 53.625 \nQ 29.59375 56 35.59375 56 \nQ 45.5625 56 51.78125 48.09375 \nQ 58.015625 40.1875 58.015625 27.296875 \nQ 58.015625 14.40625 51.78125 6.484375 \nQ 45.5625 -1.421875 35.59375 -1.421875 \nQ 29.59375 -1.421875 25.265625 0.953125 \nQ 20.953125 3.328125 18.109375 8.203125 \nL 18.109375 0 \nL 9.078125 0 \nL 9.078125 75.984375 \nL 18.109375 75.984375 \nz\n\" id=\"DejaVuSans-98\"/>\n      <path d=\"M 34.28125 27.484375 \nQ 23.390625 27.484375 19.1875 25 \nQ 14.984375 22.515625 14.984375 16.5 \nQ 14.984375 11.71875 18.140625 8.90625 \nQ 21.296875 6.109375 26.703125 6.109375 \nQ 34.1875 6.109375 38.703125 11.40625 \nQ 43.21875 16.703125 43.21875 25.484375 \nL 43.21875 27.484375 \nz\nM 52.203125 31.203125 \nL 52.203125 0 \nL 43.21875 0 \nL 43.21875 8.296875 \nQ 40.140625 3.328125 35.546875 0.953125 \nQ 30.953125 -1.421875 24.3125 -1.421875 \nQ 15.921875 -1.421875 10.953125 3.296875 \nQ 6 8.015625 6 15.921875 \nQ 6 25.140625 12.171875 29.828125 \nQ 18.359375 34.515625 30.609375 34.515625 \nL 43.21875 34.515625 \nL 43.21875 35.40625 \nQ 43.21875 41.609375 39.140625 45 \nQ 35.0625 48.390625 27.6875 48.390625 \nQ 23 48.390625 18.546875 47.265625 \nQ 14.109375 46.140625 10.015625 43.890625 \nL 10.015625 52.203125 \nQ 14.9375 54.109375 19.578125 55.046875 \nQ 24.21875 56 28.609375 56 \nQ 40.484375 56 46.34375 49.84375 \nQ 52.203125 43.703125 52.203125 31.203125 \nz\n\" id=\"DejaVuSans-97\"/>\n      <path d=\"M 9.421875 54.6875 \nL 18.40625 54.6875 \nL 18.40625 0 \nL 9.421875 0 \nz\nM 9.421875 75.984375 \nL 18.40625 75.984375 \nL 18.40625 64.59375 \nL 9.421875 64.59375 \nz\n\" id=\"DejaVuSans-105\"/>\n      <path d=\"M 9.421875 75.984375 \nL 18.40625 75.984375 \nL 18.40625 0 \nL 9.421875 0 \nz\n\" id=\"DejaVuSans-108\"/>\n      <path d=\"M 18.3125 70.21875 \nL 18.3125 54.6875 \nL 36.8125 54.6875 \nL 36.8125 47.703125 \nL 18.3125 47.703125 \nL 18.3125 18.015625 \nQ 18.3125 11.328125 20.140625 9.421875 \nQ 21.96875 7.515625 27.59375 7.515625 \nL 36.8125 7.515625 \nL 36.8125 0 \nL 27.59375 0 \nQ 17.1875 0 13.234375 3.875 \nQ 9.28125 7.765625 9.28125 18.015625 \nL 9.28125 47.703125 \nL 2.6875 47.703125 \nL 2.6875 54.6875 \nL 9.28125 54.6875 \nL 9.28125 70.21875 \nz\n\" id=\"DejaVuSans-116\"/>\n      <path d=\"M 56.203125 29.59375 \nL 56.203125 25.203125 \nL 14.890625 25.203125 \nQ 15.484375 15.921875 20.484375 11.0625 \nQ 25.484375 6.203125 34.421875 6.203125 \nQ 39.59375 6.203125 44.453125 7.46875 \nQ 49.3125 8.734375 54.109375 11.28125 \nL 54.109375 2.78125 \nQ 49.265625 0.734375 44.1875 -0.34375 \nQ 39.109375 -1.421875 33.890625 -1.421875 \nQ 20.796875 -1.421875 13.15625 6.1875 \nQ 5.515625 13.8125 5.515625 26.8125 \nQ 5.515625 40.234375 12.765625 48.109375 \nQ 20.015625 56 32.328125 56 \nQ 43.359375 56 49.78125 48.890625 \nQ 56.203125 41.796875 56.203125 29.59375 \nz\nM 47.21875 32.234375 \nQ 47.125 39.59375 43.09375 43.984375 \nQ 39.0625 48.390625 32.421875 48.390625 \nQ 24.90625 48.390625 20.390625 44.140625 \nQ 15.875 39.890625 15.1875 32.171875 \nz\n\" id=\"DejaVuSans-101\"/>\n      <path d=\"M 44.28125 53.078125 \nL 44.28125 44.578125 \nQ 40.484375 46.53125 36.375 47.5 \nQ 32.28125 48.484375 27.875 48.484375 \nQ 21.1875 48.484375 17.84375 46.4375 \nQ 14.5 44.390625 14.5 40.28125 \nQ 14.5 37.15625 16.890625 35.375 \nQ 19.28125 33.59375 26.515625 31.984375 \nL 29.59375 31.296875 \nQ 39.15625 29.25 43.1875 25.515625 \nQ 47.21875 21.78125 47.21875 15.09375 \nQ 47.21875 7.46875 41.1875 3.015625 \nQ 35.15625 -1.421875 24.609375 -1.421875 \nQ 20.21875 -1.421875 15.453125 -0.5625 \nQ 10.6875 0.296875 5.421875 2 \nL 5.421875 11.28125 \nQ 10.40625 8.6875 15.234375 7.390625 \nQ 20.0625 6.109375 24.8125 6.109375 \nQ 31.15625 6.109375 34.5625 8.28125 \nQ 37.984375 10.453125 37.984375 14.40625 \nQ 37.984375 18.0625 35.515625 20.015625 \nQ 33.0625 21.96875 24.703125 23.78125 \nL 21.578125 24.515625 \nQ 13.234375 26.265625 9.515625 29.90625 \nQ 5.8125 33.546875 5.8125 39.890625 \nQ 5.8125 47.609375 11.28125 51.796875 \nQ 16.75 56 26.8125 56 \nQ 31.78125 56 36.171875 55.265625 \nQ 40.578125 54.546875 44.28125 53.078125 \nz\n\" id=\"DejaVuSans-115\"/>\n     </defs>\n     <g transform=\"translate(17.837813 185.855781)rotate(-90)scale(0.14 -0.14)\">\n      <use xlink:href=\"#DejaVuSans-80\"/>\n      <use x=\"58.552734\" xlink:href=\"#DejaVuSans-114\"/>\n      <use x=\"97.416016\" xlink:href=\"#DejaVuSans-111\"/>\n      <use x=\"158.597656\" xlink:href=\"#DejaVuSans-98\"/>\n      <use x=\"222.074219\" xlink:href=\"#DejaVuSans-97\"/>\n      <use x=\"283.353516\" xlink:href=\"#DejaVuSans-98\"/>\n      <use x=\"346.830078\" xlink:href=\"#DejaVuSans-105\"/>\n      <use x=\"374.613281\" xlink:href=\"#DejaVuSans-108\"/>\n      <use x=\"402.396484\" xlink:href=\"#DejaVuSans-105\"/>\n      <use x=\"430.179688\" xlink:href=\"#DejaVuSans-116\"/>\n      <use x=\"469.388672\" xlink:href=\"#DejaVuSans-105\"/>\n      <use x=\"497.171875\" xlink:href=\"#DejaVuSans-101\"/>\n      <use x=\"558.695312\" xlink:href=\"#DejaVuSans-115\"/>\n     </g>\n    </g>\n   </g>\n   <g id=\"patch_3\">\n    <path clip-path=\"url(#p319b29fffe)\" d=\"M 80.675795 279 \nL 435.766705 279 \nL 435.766705 52.5 \nL 80.675795 52.5 \nz\n\" style=\"fill:#648fff;\"/>\n   </g>\n   <g id=\"patch_4\">\n    <path d=\"M 62.92125 279 \nL 62.92125 7.2 \n\" style=\"fill:none;stroke:#000000;stroke-linecap:square;stroke-linejoin:miter;stroke-width:0.8;\"/>\n   </g>\n   <g id=\"patch_5\">\n    <path d=\"M 453.52125 279 \nL 453.52125 7.2 \n\" style=\"fill:none;stroke:#000000;stroke-linecap:square;stroke-linejoin:miter;stroke-width:0.8;\"/>\n   </g>\n   <g id=\"patch_6\">\n    <path d=\"M 62.92125 279 \nL 453.52125 279 \n\" style=\"fill:none;stroke:#000000;stroke-linecap:square;stroke-linejoin:miter;stroke-width:0.8;\"/>\n   </g>\n   <g id=\"patch_7\">\n    <path d=\"M 62.92125 7.2 \nL 453.52125 7.2 \n\" style=\"fill:none;stroke:#000000;stroke-linecap:square;stroke-linejoin:miter;stroke-width:0.8;\"/>\n   </g>\n   <g id=\"text_8\">\n    <!-- 1.000 -->\n    <g transform=\"translate(243.907187 39.095312)scale(0.1 -0.1)\">\n     <use xlink:href=\"#DejaVuSans-49\"/>\n     <use x=\"63.623047\" xlink:href=\"#DejaVuSans-46\"/>\n     <use x=\"95.410156\" xlink:href=\"#DejaVuSans-48\"/>\n     <use x=\"159.033203\" xlink:href=\"#DejaVuSans-48\"/>\n     <use x=\"222.65625\" xlink:href=\"#DejaVuSans-48\"/>\n    </g>\n   </g>\n  </g>\n </g>\n <defs>\n  <clipPath id=\"p319b29fffe\">\n   <rect height=\"271.8\" width=\"390.6\" x=\"62.92125\" y=\"7.2\"/>\n  </clipPath>\n </defs>\n</svg>\n"
          },
          "metadata": {
            "tags": []
          },
          "execution_count": 39
        }
      ]
    }
  ]
}