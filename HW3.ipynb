{
  "nbformat": 4,
  "nbformat_minor": 0,
  "metadata": {
    "colab": {
      "name": "HW3.ipynb",
      "provenance": [],
      "authorship_tag": "ABX9TyMMAP0YRLwz8EK+JhKt9RoS",
      "include_colab_link": true
    },
    "kernelspec": {
      "name": "python3",
      "display_name": "Python 3"
    }
  },
  "cells": [
    {
      "cell_type": "markdown",
      "metadata": {
        "id": "view-in-github",
        "colab_type": "text"
      },
      "source": [
        "<a href=\"https://colab.research.google.com/github/AnitaKirkovska/Quantum_Computing/blob/master/HW3.ipynb\" target=\"_parent\"><img src=\"https://colab.research.google.com/assets/colab-badge.svg\" alt=\"Open In Colab\"/></a>"
      ]
    },
    {
      "cell_type": "markdown",
      "metadata": {
        "id": "70cn_BWO92OR",
        "colab_type": "text"
      },
      "source": [
        "# Problem 1"
      ]
    },
    {
      "cell_type": "markdown",
      "metadata": {
        "id": "gy28DoPN9z0t",
        "colab_type": "text"
      },
      "source": [
        "\n",
        "\n",
        "**Fourier matrix**\n",
        "Let $\\omega=\\mathrm{exp}(2\\pi i/N)$ be the $N$th root of unity. The Fourier matrix of size $N$ is the matrix $F_N=(q_{k,\\ell})\\in\\mathbb{C}^{N\\times N}$ whose entries are given by$$q_{k,\\ell}=\\frac{1}{\\sqrt{N}} \\omega^{k \\cdot \\ell}$$for $k, \\ell \\in \\{0,\\ldots,N-1\\}$.\n",
        "\n",
        "Using numpy, implement the function get_fourier_matrix that creates the Fourier matrix of size $N$.\n",
        "\n",
        "Compute the eigenvalues of eigenvectors of the Fourier matrix.\n",
        "\n",
        "To check that your code is correct, you should verify the following properties:\n",
        "\n",
        "the Fourier matrix is unitary\n",
        "the fourth power of $F_N^4$ is equal to the identity matrix\n",
        "its eigenvalues are $1, i, -1, -i$ (the multiplicities of these eigenvalues are given on the wikipedia page discrete fourier transform in section eigenvalues and eigenvectors)\n",
        "\n",
        "\n",
        "**Cyclic shift matrix**\n",
        "The cyclic shift matrix is the matrix $P_N=(p_{k,\\ell}\\in\\mathbb{C}^{N\\times N}$ whose entries are given by\n",
        "\n",
        "$$ p_{k,\\ell} = 1 \\mbox{ if } \\ell = k + 1 \\pmod{N} $$$$ p_{k,\\ell} = 0 \\mbox{ if } \\ell \\neq k + 1 \\pmod{N} $$\n",
        "Using numpy, implement the function get_cyclic_shift_matrix that create the cyclic shift matrix of size $N$.\n",
        "\n",
        "Compute the eigenvalues of $P_N$.\n",
        "\n",
        "To show that your code is correct, you should verify the following properties:\n",
        "\n",
        "the cyclic shift matrix is unitary\n",
        "the $N$th power of the cyclic shift matrix is the identity matrix\n",
        "the eigenvalues of the cyclic shift matrix are $N$th roots of unity\n",
        "the cyclic shift matrix is diagonalized by the Fourier matrix, that is, $F_N^\\dagger P_N F_N$ is diagonal.\n"
      ]
    },
    {
      "cell_type": "code",
      "metadata": {
        "id": "3zGwwEeR9tXi",
        "colab_type": "code",
        "colab": {}
      },
      "source": [
        ""
      ],
      "execution_count": 0,
      "outputs": []
    },
    {
      "cell_type": "markdown",
      "metadata": {
        "id": "ETctmo4T-K_h",
        "colab_type": "text"
      },
      "source": [
        "# Problem 2"
      ]
    },
    {
      "cell_type": "markdown",
      "metadata": {
        "id": "L9LvPLbb-OKQ",
        "colab_type": "text"
      },
      "source": [
        "\n",
        "Using Qiskit IBM Q Experience, implement the quantum phase estimation circuit with 3-bit precision.\n",
        "\n",
        "This quantum circuit is explained on pages 110-113 (Inverse Fourier transform for 3 qubits) of the lecture slides.\n",
        "\n",
        "Write a function that create the state\n",
        "\n",
        "$$ \n",
        "\\frac{1}{\\sqrt{2}} ( |0\\rangle + e^{2\\pi i 2^2 \\varphi} |1\\rangle ) \\otimes \n",
        "\\frac{1}{\\sqrt{2}} ( |0\\rangle + e^{2\\pi i 2^1 \\varphi} |1\\rangle ) \\otimes \n",
        "\\frac{1}{\\sqrt{2}} ( |0\\rangle + e^{2\\pi i 2^0 \\varphi} |1\\rangle ) \n",
        "$$\n",
        "for arbitrary $\\varphi\\in [0,1)$.\n",
        "\n",
        "(This is the state that we would obtain by\n",
        "\n",
        "preparing the three control bits in the $|+\\rangle$ state\n",
        "applying the control power of $U^{2^2}, U^{2^1}, U^{2^0}$ gates\n",
        "assuming that the target qubit is in state $|\\psi\\rangle$ and $U|\\psi\\rangle=e^{2 \\pi i \\varphi} |\\psi\\rangle$.)\n",
        "\n",
        "You can preprare the initial state applying U1 gates on qubits prepared $|+\\rangle$. See Qiskit U1 gate documentation.\n",
        "\n",
        "The controlled $R_k^\\dagger$ gates occuring in the inverse Fourier transform circuit can be realized with the help of controlled U1 gates."
      ]
    }
  ]
}