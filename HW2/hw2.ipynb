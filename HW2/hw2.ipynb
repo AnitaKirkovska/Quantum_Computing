{
  "nbformat": 4,
  "nbformat_minor": 0,
  "metadata": {
    "colab": {
      "name": "hw2.ipynb",
      "provenance": [],
      "authorship_tag": "ABX9TyPAcM0sYT+Z8eroptlC6QXG",
      "include_colab_link": true
    },
    "kernelspec": {
      "name": "python3",
      "display_name": "Python 3"
    }
  },
  "cells": [
    {
      "cell_type": "markdown",
      "metadata": {
        "id": "view-in-github",
        "colab_type": "text"
      },
      "source": [
        "<a href=\"https://colab.research.google.com/github/AnitaKirkovska/Quantum_Computing/blob/master/HW2/hw2.ipynb\" target=\"_parent\"><img src=\"https://colab.research.google.com/assets/colab-badge.svg\" alt=\"Open In Colab\"/></a>"
      ]
    },
    {
      "cell_type": "markdown",
      "metadata": {
        "id": "fsFkUrAz4m1Z",
        "colab_type": "text"
      },
      "source": [
        "Homework 2\n",
        "\n",
        "Problem 1\n",
        "\n",
        "Implement a simulation of the Hadamard test for any qubit state |psi> and any single qubit unitary U using numpy. Observe that you have to compute how the state of the quantum register changes. It is not enough to just code up the formula for the probabilities that we derived in class.\n",
        "\n",
        "Recall that you can realize the controlled-U gate as follows: |0><0| otimes I + |1><1| otimes U. Use the numpy command np.kron for the tensor product.\n",
        "\n",
        "For |psi> use the state |0> and for the unitary U use the orthogonal matrix that describes the rotation by angle 2 pi theta, where theta [0, 1).\n",
        "\n",
        "Create a plot showing the probability Pr(0) in dependence on theta.\n",
        "\n",
        "Problem 2\n",
        "\n",
        "Implement a simulation of the SWAP test.\n",
        "\n",
        "Use |psi1> = |0> and |psi2> = cos(2 pi theta) |0> + sin(2 pi theta) |1>. Create a plot showing the probability Pr(0) in dependence on theta."
      ]
    },
    {
      "cell_type": "code",
      "metadata": {
        "id": "3LoDGzVk3_tY",
        "colab_type": "code",
        "colab": {}
      },
      "source": [
        "import numpy as np\n",
        "import matplotlib.pyplot as plt\n",
        "import math \n",
        "from numpy import kron\n",
        "from numpy import outer,matmul, multiply\n",
        "from numpy import linalg, array\n",
        "from math  import cos,sin,pi"
      ],
      "execution_count": 0,
      "outputs": []
    },
    {
      "cell_type": "markdown",
      "metadata": {
        "id": "zuuIr46YK3ln",
        "colab_type": "text"
      },
      "source": [
        "# Problem 1"
      ]
    },
    {
      "cell_type": "code",
      "metadata": {
        "id": "z_WNDv0OK3SN",
        "colab_type": "code",
        "colab": {}
      },
      "source": [
        "#using np.kron for tensor products to simulate a Hadamard test \n",
        "\n",
        "\n",
        "phi=np.multiply(np.arange(0,1,0.01),2*math.pi)\n",
        "prob = []\n",
        "\n",
        "for i in range(len(phi)):\n",
        "  U = array([[cos(phi[i]),sin(phi[i])],[-sin(phi[i]),cos(phi[i])]])\n",
        "  prob.append(H_test(([1,0]),([1,0]),U))\n",
        "\n",
        "def H_test(k_control,k_register,U):\n",
        "\n",
        "  kt0 = [1,0]\n",
        "  kt1 = [0,1]\n",
        "  kt00 = kron(kt0,kt0)\n",
        "  kt01 = kron(kt0,kt1)\n",
        "  kt10 = kron(kt1,kt0)\n",
        "  kt11 = kron(kt0,kt1)\n",
        "\n",
        "  plus = np.array([1,1])/math.sqrt(2)\n",
        "  minus=np.array([1,-1])/math.sqrt(2)\n",
        "  both = ([plus,minus])\n",
        "\n",
        "  #Building hadamard kronecker product with identity matrix\n",
        "  In = np.identity(len(k_register))\n",
        "  Hd = kron((np.transpose(both)),In)\n",
        "\n",
        "  #Calculating states\n",
        "  U = kron(outer(kt0,kt0),In) + kron(outer(kt1,kt1),U)\n",
        "  state = kron(k_control, k_register)\n",
        "\n",
        "  state = matmul(Hd, state)\n",
        "  state = matmul(U,state)\n",
        "  state = matmul(Hd,state)\n",
        "\n",
        "  proj = kron(outer(kt0,kt0),In)\n",
        "  prob = linalg.norm(matmul(proj,state),ord=2)**2\n",
        "\n",
        "  return prob"
      ],
      "execution_count": 0,
      "outputs": []
    },
    {
      "cell_type": "markdown",
      "metadata": {
        "id": "38j1qFzPX6lx",
        "colab_type": "text"
      },
      "source": [
        "Showing the probability Pr(0) in dependence on theta\n",
        "\n",
        "Prob(0) = $\\frac{1}{2} \\big(1 + \\cos(\\phi) \\big)$ \n",
        "\n",
        "and\n",
        "\n",
        "$$\n",
        "U=\\begin{bmatrix}\n",
        "cos(\\phi) & sin(\\phi) \\\\ -sin(\\phi) & cos(\\phi)\n",
        "\\end{bmatrix}\n",
        "$$\n",
        "\n",
        "Hadamard test probability outputting zero is plotted for $\\theta\\in \\left[0,1\\right)$.\n"
      ]
    },
    {
      "cell_type": "code",
      "metadata": {
        "id": "wr5x0K6XKtOU",
        "colab_type": "code",
        "outputId": "a2b43722-cc67-463c-dca6-236bd49b849b",
        "colab": {
          "base_uri": "https://localhost:8080/",
          "height": 296
        }
      },
      "source": [
        "plt.plot(phi,prob,dashes=[6, 2], color='red',label='Pr(0) from function')\n",
        "plt.plot(phi,1/2*(1+np.cos(phi)),'r.', color='blue', markersize=4, label='Prob(0) = 1/2*(1+cos(phi))')\n",
        "plt.xlabel('theta')\n",
        "plt.ylabel('Pr(0) Simulation')\n",
        "plt.legend()"
      ],
      "execution_count": 153,
      "outputs": [
        {
          "output_type": "execute_result",
          "data": {
            "text/plain": [
              "<matplotlib.legend.Legend at 0x7f557d0be208>"
            ]
          },
          "metadata": {
            "tags": []
          },
          "execution_count": 153
        },
        {
          "output_type": "display_data",
          "data": {
            "image/png": "[encoded data removed]",
            "text/plain": [
              "<Figure size 432x288 with 1 Axes>"
            ]
          },
          "metadata": {
            "tags": []
          }
        }
      ]
    },
    {
      "cell_type": "markdown",
      "metadata": {
        "id": "XlxfRJ1skcKc",
        "colab_type": "text"
      },
      "source": [
        "# Problem 2"
      ]
    },
    {
      "cell_type": "code",
      "metadata": {
        "id": "4X89F5Tbe8ez",
        "colab_type": "code",
        "colab": {}
      },
      "source": [
        "kt0 = [1,0]\n",
        "kt1 = [0,1]\n",
        "kt00 = kron(kt0,kt0)\n",
        "kt01 = kron(kt0,kt1)\n",
        "kt10 = kron(kt1,kt0)\n",
        "kt11 = kron(kt0,kt1)\n",
        "\n",
        "Swap = outer(kt00,kt00) + outer(kt01,kt10) + outer(kt10,kt01) + outer(kt11,kt11)\n",
        "phi=np.multiply(np.arange(0,1,0.01),2*math.pi)\n",
        "prob = []\n",
        "\n",
        "for j in range(len(phi)):\n",
        "  psi= kron(kt0, multiply(cos(phi[j]),kt0) + multiply(sin(phi[j]),kt1))\n",
        "  prob.append(H_test(kt0,psi,Swap))"
      ],
      "execution_count": 0,
      "outputs": []
    },
    {
      "cell_type": "markdown",
      "metadata": {
        "id": "8KOr4ezMijQa",
        "colab_type": "text"
      },
      "source": [
        "Showing the probability Pr(0) in dependence on theta\n",
        "\n",
        "Prob(0) = $\\frac{1}{2}\\big(1 + \\cos^2(\\phi)\\big)$\n",
        "\n",
        "and\n",
        "\n",
        "\\begin{align*}\n",
        "U=\\begin{bmatrix}\n",
        "\\cos(\\phi)\\\\\\sin(\\phi)\\\\0\\\\0\n",
        "\\end{bmatrix}\n",
        "\\end{align*}"
      ]
    },
    {
      "cell_type": "code",
      "metadata": {
        "id": "VwRUITN_m1qD",
        "colab_type": "code",
        "outputId": "26d85bf4-51bc-41de-ba34-b80ad9e20845",
        "colab": {
          "base_uri": "https://localhost:8080/",
          "height": 296
        }
      },
      "source": [
        "plt.plot(phi,prob,dashes=[6, 2], color='red',label='Prob(0) from function')\n",
        "plt.plot(phi,1/2*(1+np.cos(phi)**2),'r.',color='blue',label='1/2*(1+cos(phi)^^2)')\n",
        "plt.xlabel('theta')\n",
        "plt.ylabel('Pr(0) Simulation')\n",
        "\n",
        "plt.legend()"
      ],
      "execution_count": 156,
      "outputs": [
        {
          "output_type": "execute_result",
          "data": {
            "text/plain": [
              "<matplotlib.legend.Legend at 0x7f557d0221d0>"
            ]
          },
          "metadata": {
            "tags": []
          },
          "execution_count": 156
        },
        {
          "output_type": "display_data",
          "data": {
            "image/png": "[encoded data removed]",
            "text/plain": [
              "<Figure size 432x288 with 1 Axes>"
            ]
          },
          "metadata": {
            "tags": []
          }
        }
      ]
    },
    {
      "cell_type": "code",
      "metadata": {
        "id": "BiW8tNkFm3S5",
        "colab_type": "code",
        "colab": {}
      },
      "source": [
        ""
      ],
      "execution_count": 0,
      "outputs": []
    }
  ]
}