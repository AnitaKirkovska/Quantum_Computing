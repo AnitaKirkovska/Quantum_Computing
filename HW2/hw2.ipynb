{
  "nbformat": 4,
  "nbformat_minor": 0,
  "metadata": {
    "colab": {
      "name": "hw2.ipynb",
      "provenance": [],
      "authorship_tag": "ABX9TyNzsBU0i7ySdOOXiE3coPBk",
      "include_colab_link": true
    },
    "kernelspec": {
      "name": "python3",
      "display_name": "Python 3"
    }
  },
  "cells": [
    {
      "cell_type": "markdown",
      "metadata": {
        "id": "view-in-github",
        "colab_type": "text"
      },
      "source": [
        "<a href=\"https://colab.research.google.com/github/AnitaKirkovska/Quantum_Computing/blob/master/HW2/hw2.ipynb\" target=\"_parent\"><img src=\"https://colab.research.google.com/assets/colab-badge.svg\" alt=\"Open In Colab\"/></a>"
      ]
    },
    {
      "cell_type": "markdown",
      "metadata": {
        "id": "fsFkUrAz4m1Z",
        "colab_type": "text"
      },
      "source": [
        "Homework 2\n",
        "\n",
        "Problem 1\n",
        "\n",
        "Implement a simulation of the Hadamard test for any qubit state |psi> and any single qubit unitary U using numpy. Observe that you have to compute how the state of the quantum register changes. It is not enough to just code up the formula for the probabilities that we derived in class.\n",
        "\n",
        "Recall that you can realize the controlled-U gate as follows: |0><0| otimes I + |1><1| otimes U. Use the numpy command np.kron for the tensor product.\n",
        "\n",
        "For |psi> use the state |0> and for the unitary U use the orthogonal matrix that describes the rotation by angle 2 pi theta, where theta [0, 1).\n",
        "\n",
        "Create a plot showing the probability Pr(0) in dependence on theta.\n",
        "\n",
        "Problem 2\n",
        "\n",
        "Implement a simulation of the SWAP test.\n",
        "\n",
        "Use |psi1> = |0> and |psi2> = cos(2 pi theta) |0> + sin(2 pi theta) |1>. Create a plot showing the probability Pr(0) in dependence on theta."
      ]
    },
    {
      "cell_type": "code",
      "metadata": {
        "id": "3LoDGzVk3_tY",
        "colab_type": "code",
        "colab": {}
      },
      "source": [
        ""
      ],
      "execution_count": 0,
      "outputs": []
    }
  ]
}